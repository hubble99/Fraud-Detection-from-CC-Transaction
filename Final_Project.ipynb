{
  "cells": [
    {
      "cell_type": "markdown",
      "metadata": {
        "id": "view-in-github",
        "colab_type": "text"
      },
      "source": [
        "<a href=\"https://colab.research.google.com/github/hubble99/Testing/blob/main/Final_Project.ipynb\" target=\"_parent\"><img src=\"https://colab.research.google.com/assets/colab-badge.svg\" alt=\"Open In Colab\"/></a>"
      ]
    },
    {
      "cell_type": "code",
      "execution_count": null,
      "metadata": {
        "colab": {
          "base_uri": "https://localhost:8080/"
        },
        "id": "Aqb9XVKiB8PP",
        "outputId": "12751324-7030-4487-e7c1-5b31c0a840ff"
      },
      "outputs": [
        {
          "output_type": "stream",
          "name": "stdout",
          "text": [
            "Mounted at /content/drive\n"
          ]
        }
      ],
      "source": [
        "# Import librabry\n",
        "import pandas as pd\n",
        "import matplotlib.pyplot as plt\n",
        "import seaborn as sns\n",
        "import numpy as np\n",
        "from google.colab import drive\n",
        "drive.mount('/content/drive')\n",
        "pd.set_option('display.max_column', None)"
      ]
    },
    {
      "cell_type": "markdown",
      "metadata": {
        "id": "R2xCSbGHR32d"
      },
      "source": [
        "# Data Cleansing"
      ]
    },
    {
      "cell_type": "markdown",
      "source": [
        "### Read dataset and solve datatype dataset"
      ],
      "metadata": {
        "id": "bZk99mIr-ZRz"
      }
    },
    {
      "cell_type": "code",
      "execution_count": null,
      "metadata": {
        "colab": {
          "base_uri": "https://localhost:8080/"
        },
        "id": "FbQuKkh-CUZB",
        "outputId": "0dabc0aa-a6f2-4f1e-db52-91b5abf6ad60"
      },
      "outputs": [
        {
          "output_type": "execute_result",
          "data": {
            "text/plain": [
              "   Unnamed: 0  accountNumber  customerId  creditLimit  availableMoney  \\\n",
              "0           0      733493772   733493772         5000         5000.00   \n",
              "1           1      733493772   733493772         5000         4888.67   \n",
              "2           2      733493772   733493772         5000         4863.92   \n",
              "3           3      733493772   733493772         5000         4676.52   \n",
              "4           4      733493772   733493772         5000         4449.18   \n",
              "\n",
              "   transactionDateTime  transactionAmount merchantName acqCountry  \\\n",
              "0  2016-01-08T19:04:50             111.33         Lyft         US   \n",
              "1  2016-01-09T22:32:39              24.75         Uber         US   \n",
              "2  2016-01-11T13:36:55             187.40         Lyft         US   \n",
              "3  2016-01-11T22:47:46             227.34         Lyft         US   \n",
              "4  2016-01-16T01:41:11               0.00         Lyft         US   \n",
              "\n",
              "  merchantCountryCode  posEntryMode  posConditionCode merchantCategoryCode  \\\n",
              "0                  US           5.0               1.0            rideshare   \n",
              "1                  US           9.0               1.0            rideshare   \n",
              "2                  US           5.0               1.0            rideshare   \n",
              "3                  US           2.0               1.0            rideshare   \n",
              "4                  US           2.0               1.0            rideshare   \n",
              "\n",
              "  currentExpDate accountOpenDate dateOfLastAddressChange  cardCVV  enteredCVV  \\\n",
              "0        04/2020      2014-08-03              2014-08-03      492         492   \n",
              "1        06/2023      2014-08-03              2014-08-03      492         492   \n",
              "2        12/2027      2014-08-03              2014-08-03      492         492   \n",
              "3        09/2029      2014-08-03              2014-08-03      492         492   \n",
              "4        10/2024      2014-08-03              2014-08-03      492         492   \n",
              "\n",
              "   cardLast4Digits       transactionType  isFraud  echoBuffer  currentBalance  \\\n",
              "0             9184              PURCHASE     True         NaN            0.00   \n",
              "1             9184              PURCHASE    False         NaN          111.33   \n",
              "2             9184              PURCHASE    False         NaN          136.08   \n",
              "3             9184              PURCHASE     True         NaN          323.48   \n",
              "4             9184  ADDRESS_VERIFICATION    False         NaN          550.82   \n",
              "\n",
              "   merchantCity  merchantState  merchantZip  cardPresent  posOnPremises  \\\n",
              "0           NaN            NaN          NaN        False            NaN   \n",
              "1           NaN            NaN          NaN        False            NaN   \n",
              "2           NaN            NaN          NaN        False            NaN   \n",
              "3           NaN            NaN          NaN        False            NaN   \n",
              "4           NaN            NaN          NaN        False            NaN   \n",
              "\n",
              "   recurringAuthInd  expirationDateKeyInMatch  \n",
              "0               NaN                     False  \n",
              "1               NaN                     False  \n",
              "2               NaN                     False  \n",
              "3               NaN                     False  \n",
              "4               NaN                     False  "
            ],
            "text/html": [
              "\n",
              "  <div id=\"df-3aa74740-5b3f-48bb-b85b-f28f069b21d1\">\n",
              "    <div class=\"colab-df-container\">\n",
              "      <div>\n",
              "<style scoped>\n",
              "    .dataframe tbody tr th:only-of-type {\n",
              "        vertical-align: middle;\n",
              "    }\n",
              "\n",
              "    .dataframe tbody tr th {\n",
              "        vertical-align: top;\n",
              "    }\n",
              "\n",
              "    .dataframe thead th {\n",
              "        text-align: right;\n",
              "    }\n",
              "</style>\n",
              "<table border=\"1\" class=\"dataframe\">\n",
              "  <thead>\n",
              "    <tr style=\"text-align: right;\">\n",
              "      <th></th>\n",
              "      <th>Unnamed: 0</th>\n",
              "      <th>accountNumber</th>\n",
              "      <th>customerId</th>\n",
              "      <th>creditLimit</th>\n",
              "      <th>availableMoney</th>\n",
              "      <th>transactionDateTime</th>\n",
              "      <th>transactionAmount</th>\n",
              "      <th>merchantName</th>\n",
              "      <th>acqCountry</th>\n",
              "      <th>merchantCountryCode</th>\n",
              "      <th>posEntryMode</th>\n",
              "      <th>posConditionCode</th>\n",
              "      <th>merchantCategoryCode</th>\n",
              "      <th>currentExpDate</th>\n",
              "      <th>accountOpenDate</th>\n",
              "      <th>dateOfLastAddressChange</th>\n",
              "      <th>cardCVV</th>\n",
              "      <th>enteredCVV</th>\n",
              "      <th>cardLast4Digits</th>\n",
              "      <th>transactionType</th>\n",
              "      <th>isFraud</th>\n",
              "      <th>echoBuffer</th>\n",
              "      <th>currentBalance</th>\n",
              "      <th>merchantCity</th>\n",
              "      <th>merchantState</th>\n",
              "      <th>merchantZip</th>\n",
              "      <th>cardPresent</th>\n",
              "      <th>posOnPremises</th>\n",
              "      <th>recurringAuthInd</th>\n",
              "      <th>expirationDateKeyInMatch</th>\n",
              "    </tr>\n",
              "  </thead>\n",
              "  <tbody>\n",
              "    <tr>\n",
              "      <th>0</th>\n",
              "      <td>0</td>\n",
              "      <td>733493772</td>\n",
              "      <td>733493772</td>\n",
              "      <td>5000</td>\n",
              "      <td>5000.00</td>\n",
              "      <td>2016-01-08T19:04:50</td>\n",
              "      <td>111.33</td>\n",
              "      <td>Lyft</td>\n",
              "      <td>US</td>\n",
              "      <td>US</td>\n",
              "      <td>5.0</td>\n",
              "      <td>1.0</td>\n",
              "      <td>rideshare</td>\n",
              "      <td>04/2020</td>\n",
              "      <td>2014-08-03</td>\n",
              "      <td>2014-08-03</td>\n",
              "      <td>492</td>\n",
              "      <td>492</td>\n",
              "      <td>9184</td>\n",
              "      <td>PURCHASE</td>\n",
              "      <td>True</td>\n",
              "      <td>NaN</td>\n",
              "      <td>0.00</td>\n",
              "      <td>NaN</td>\n",
              "      <td>NaN</td>\n",
              "      <td>NaN</td>\n",
              "      <td>False</td>\n",
              "      <td>NaN</td>\n",
              "      <td>NaN</td>\n",
              "      <td>False</td>\n",
              "    </tr>\n",
              "    <tr>\n",
              "      <th>1</th>\n",
              "      <td>1</td>\n",
              "      <td>733493772</td>\n",
              "      <td>733493772</td>\n",
              "      <td>5000</td>\n",
              "      <td>4888.67</td>\n",
              "      <td>2016-01-09T22:32:39</td>\n",
              "      <td>24.75</td>\n",
              "      <td>Uber</td>\n",
              "      <td>US</td>\n",
              "      <td>US</td>\n",
              "      <td>9.0</td>\n",
              "      <td>1.0</td>\n",
              "      <td>rideshare</td>\n",
              "      <td>06/2023</td>\n",
              "      <td>2014-08-03</td>\n",
              "      <td>2014-08-03</td>\n",
              "      <td>492</td>\n",
              "      <td>492</td>\n",
              "      <td>9184</td>\n",
              "      <td>PURCHASE</td>\n",
              "      <td>False</td>\n",
              "      <td>NaN</td>\n",
              "      <td>111.33</td>\n",
              "      <td>NaN</td>\n",
              "      <td>NaN</td>\n",
              "      <td>NaN</td>\n",
              "      <td>False</td>\n",
              "      <td>NaN</td>\n",
              "      <td>NaN</td>\n",
              "      <td>False</td>\n",
              "    </tr>\n",
              "    <tr>\n",
              "      <th>2</th>\n",
              "      <td>2</td>\n",
              "      <td>733493772</td>\n",
              "      <td>733493772</td>\n",
              "      <td>5000</td>\n",
              "      <td>4863.92</td>\n",
              "      <td>2016-01-11T13:36:55</td>\n",
              "      <td>187.40</td>\n",
              "      <td>Lyft</td>\n",
              "      <td>US</td>\n",
              "      <td>US</td>\n",
              "      <td>5.0</td>\n",
              "      <td>1.0</td>\n",
              "      <td>rideshare</td>\n",
              "      <td>12/2027</td>\n",
              "      <td>2014-08-03</td>\n",
              "      <td>2014-08-03</td>\n",
              "      <td>492</td>\n",
              "      <td>492</td>\n",
              "      <td>9184</td>\n",
              "      <td>PURCHASE</td>\n",
              "      <td>False</td>\n",
              "      <td>NaN</td>\n",
              "      <td>136.08</td>\n",
              "      <td>NaN</td>\n",
              "      <td>NaN</td>\n",
              "      <td>NaN</td>\n",
              "      <td>False</td>\n",
              "      <td>NaN</td>\n",
              "      <td>NaN</td>\n",
              "      <td>False</td>\n",
              "    </tr>\n",
              "    <tr>\n",
              "      <th>3</th>\n",
              "      <td>3</td>\n",
              "      <td>733493772</td>\n",
              "      <td>733493772</td>\n",
              "      <td>5000</td>\n",
              "      <td>4676.52</td>\n",
              "      <td>2016-01-11T22:47:46</td>\n",
              "      <td>227.34</td>\n",
              "      <td>Lyft</td>\n",
              "      <td>US</td>\n",
              "      <td>US</td>\n",
              "      <td>2.0</td>\n",
              "      <td>1.0</td>\n",
              "      <td>rideshare</td>\n",
              "      <td>09/2029</td>\n",
              "      <td>2014-08-03</td>\n",
              "      <td>2014-08-03</td>\n",
              "      <td>492</td>\n",
              "      <td>492</td>\n",
              "      <td>9184</td>\n",
              "      <td>PURCHASE</td>\n",
              "      <td>True</td>\n",
              "      <td>NaN</td>\n",
              "      <td>323.48</td>\n",
              "      <td>NaN</td>\n",
              "      <td>NaN</td>\n",
              "      <td>NaN</td>\n",
              "      <td>False</td>\n",
              "      <td>NaN</td>\n",
              "      <td>NaN</td>\n",
              "      <td>False</td>\n",
              "    </tr>\n",
              "    <tr>\n",
              "      <th>4</th>\n",
              "      <td>4</td>\n",
              "      <td>733493772</td>\n",
              "      <td>733493772</td>\n",
              "      <td>5000</td>\n",
              "      <td>4449.18</td>\n",
              "      <td>2016-01-16T01:41:11</td>\n",
              "      <td>0.00</td>\n",
              "      <td>Lyft</td>\n",
              "      <td>US</td>\n",
              "      <td>US</td>\n",
              "      <td>2.0</td>\n",
              "      <td>1.0</td>\n",
              "      <td>rideshare</td>\n",
              "      <td>10/2024</td>\n",
              "      <td>2014-08-03</td>\n",
              "      <td>2014-08-03</td>\n",
              "      <td>492</td>\n",
              "      <td>492</td>\n",
              "      <td>9184</td>\n",
              "      <td>ADDRESS_VERIFICATION</td>\n",
              "      <td>False</td>\n",
              "      <td>NaN</td>\n",
              "      <td>550.82</td>\n",
              "      <td>NaN</td>\n",
              "      <td>NaN</td>\n",
              "      <td>NaN</td>\n",
              "      <td>False</td>\n",
              "      <td>NaN</td>\n",
              "      <td>NaN</td>\n",
              "      <td>False</td>\n",
              "    </tr>\n",
              "  </tbody>\n",
              "</table>\n",
              "</div>\n",
              "      <button class=\"colab-df-convert\" onclick=\"convertToInteractive('df-3aa74740-5b3f-48bb-b85b-f28f069b21d1')\"\n",
              "              title=\"Convert this dataframe to an interactive table.\"\n",
              "              style=\"display:none;\">\n",
              "        \n",
              "  <svg xmlns=\"http://www.w3.org/2000/svg\" height=\"24px\"viewBox=\"0 0 24 24\"\n",
              "       width=\"24px\">\n",
              "    <path d=\"M0 0h24v24H0V0z\" fill=\"none\"/>\n",
              "    <path d=\"M18.56 5.44l.94 2.06.94-2.06 2.06-.94-2.06-.94-.94-2.06-.94 2.06-2.06.94zm-11 1L8.5 8.5l.94-2.06 2.06-.94-2.06-.94L8.5 2.5l-.94 2.06-2.06.94zm10 10l.94 2.06.94-2.06 2.06-.94-2.06-.94-.94-2.06-.94 2.06-2.06.94z\"/><path d=\"M17.41 7.96l-1.37-1.37c-.4-.4-.92-.59-1.43-.59-.52 0-1.04.2-1.43.59L10.3 9.45l-7.72 7.72c-.78.78-.78 2.05 0 2.83L4 21.41c.39.39.9.59 1.41.59.51 0 1.02-.2 1.41-.59l7.78-7.78 2.81-2.81c.8-.78.8-2.07 0-2.86zM5.41 20L4 18.59l7.72-7.72 1.47 1.35L5.41 20z\"/>\n",
              "  </svg>\n",
              "      </button>\n",
              "      \n",
              "  <style>\n",
              "    .colab-df-container {\n",
              "      display:flex;\n",
              "      flex-wrap:wrap;\n",
              "      gap: 12px;\n",
              "    }\n",
              "\n",
              "    .colab-df-convert {\n",
              "      background-color: #E8F0FE;\n",
              "      border: none;\n",
              "      border-radius: 50%;\n",
              "      cursor: pointer;\n",
              "      display: none;\n",
              "      fill: #1967D2;\n",
              "      height: 32px;\n",
              "      padding: 0 0 0 0;\n",
              "      width: 32px;\n",
              "    }\n",
              "\n",
              "    .colab-df-convert:hover {\n",
              "      background-color: #E2EBFA;\n",
              "      box-shadow: 0px 1px 2px rgba(60, 64, 67, 0.3), 0px 1px 3px 1px rgba(60, 64, 67, 0.15);\n",
              "      fill: #174EA6;\n",
              "    }\n",
              "\n",
              "    [theme=dark] .colab-df-convert {\n",
              "      background-color: #3B4455;\n",
              "      fill: #D2E3FC;\n",
              "    }\n",
              "\n",
              "    [theme=dark] .colab-df-convert:hover {\n",
              "      background-color: #434B5C;\n",
              "      box-shadow: 0px 1px 3px 1px rgba(0, 0, 0, 0.15);\n",
              "      filter: drop-shadow(0px 1px 2px rgba(0, 0, 0, 0.3));\n",
              "      fill: #FFFFFF;\n",
              "    }\n",
              "  </style>\n",
              "\n",
              "      <script>\n",
              "        const buttonEl =\n",
              "          document.querySelector('#df-3aa74740-5b3f-48bb-b85b-f28f069b21d1 button.colab-df-convert');\n",
              "        buttonEl.style.display =\n",
              "          google.colab.kernel.accessAllowed ? 'block' : 'none';\n",
              "\n",
              "        async function convertToInteractive(key) {\n",
              "          const element = document.querySelector('#df-3aa74740-5b3f-48bb-b85b-f28f069b21d1');\n",
              "          const dataTable =\n",
              "            await google.colab.kernel.invokeFunction('convertToInteractive',\n",
              "                                                     [key], {});\n",
              "          if (!dataTable) return;\n",
              "\n",
              "          const docLinkHtml = 'Like what you see? Visit the ' +\n",
              "            '<a target=\"_blank\" href=https://colab.research.google.com/notebooks/data_table.ipynb>data table notebook</a>'\n",
              "            + ' to learn more about interactive tables.';\n",
              "          element.innerHTML = '';\n",
              "          dataTable['output_type'] = 'display_data';\n",
              "          await google.colab.output.renderOutput(dataTable, element);\n",
              "          const docLink = document.createElement('div');\n",
              "          docLink.innerHTML = docLinkHtml;\n",
              "          element.appendChild(docLink);\n",
              "        }\n",
              "      </script>\n",
              "    </div>\n",
              "  </div>\n",
              "  "
            ]
          },
          "metadata": {},
          "execution_count": 2
        }
      ],
      "source": [
        "# Import and read dataset\n",
        "df = pd.read_csv('/content/drive/MyDrive/transactions.csv')\n",
        "df.head()"
      ]
    },
    {
      "cell_type": "code",
      "source": [
        "#Check missing value\n",
        "df.isnull().sum()"
      ],
      "metadata": {
        "colab": {
          "base_uri": "https://localhost:8080/"
        },
        "id": "z6XY_f9Vt-Jc",
        "outputId": "2c636462-8b84-4314-bb4b-f29cc1f53383"
      },
      "execution_count": null,
      "outputs": [
        {
          "output_type": "execute_result",
          "data": {
            "text/plain": [
              "Unnamed: 0                       0\n",
              "accountNumber                    0\n",
              "customerId                       0\n",
              "creditLimit                      0\n",
              "availableMoney                   0\n",
              "transactionDateTime              0\n",
              "transactionAmount                0\n",
              "merchantName                     0\n",
              "acqCountry                    3913\n",
              "merchantCountryCode            624\n",
              "posEntryMode                  3345\n",
              "posConditionCode               287\n",
              "merchantCategoryCode             0\n",
              "currentExpDate                   0\n",
              "accountOpenDate                  0\n",
              "dateOfLastAddressChange          0\n",
              "cardCVV                          0\n",
              "enteredCVV                       0\n",
              "cardLast4Digits                  0\n",
              "transactionType                589\n",
              "isFraud                          0\n",
              "echoBuffer                  641914\n",
              "currentBalance                   0\n",
              "merchantCity                641914\n",
              "merchantState               641914\n",
              "merchantZip                 641914\n",
              "cardPresent                      0\n",
              "posOnPremises               641914\n",
              "recurringAuthInd            641914\n",
              "expirationDateKeyInMatch         0\n",
              "dtype: int64"
            ]
          },
          "metadata": {},
          "execution_count": 3
        }
      ]
    },
    {
      "cell_type": "code",
      "execution_count": null,
      "metadata": {
        "colab": {
          "base_uri": "https://localhost:8080/"
        },
        "id": "VgrCfz4oygyZ",
        "outputId": "8094f9ed-fd46-44a7-d12e-c2d32bda0962"
      },
      "outputs": [
        {
          "output_type": "execute_result",
          "data": {
            "text/plain": [
              "   accountNumber  customerId  creditLimit  availableMoney  \\\n",
              "0      733493772   733493772         5000         5000.00   \n",
              "1      733493772   733493772         5000         4888.67   \n",
              "2      733493772   733493772         5000         4863.92   \n",
              "3      733493772   733493772         5000         4676.52   \n",
              "4      733493772   733493772         5000         4449.18   \n",
              "\n",
              "   transactionDateTime  transactionAmount merchantName acqCountry  \\\n",
              "0  2016-01-08T19:04:50             111.33         Lyft         US   \n",
              "1  2016-01-09T22:32:39              24.75         Uber         US   \n",
              "2  2016-01-11T13:36:55             187.40         Lyft         US   \n",
              "3  2016-01-11T22:47:46             227.34         Lyft         US   \n",
              "4  2016-01-16T01:41:11               0.00         Lyft         US   \n",
              "\n",
              "  merchantCountryCode  posEntryMode  posConditionCode merchantCategoryCode  \\\n",
              "0                  US           5.0               1.0            rideshare   \n",
              "1                  US           9.0               1.0            rideshare   \n",
              "2                  US           5.0               1.0            rideshare   \n",
              "3                  US           2.0               1.0            rideshare   \n",
              "4                  US           2.0               1.0            rideshare   \n",
              "\n",
              "  currentExpDate accountOpenDate dateOfLastAddressChange  cardCVV  enteredCVV  \\\n",
              "0        04/2020      2014-08-03              2014-08-03      492         492   \n",
              "1        06/2023      2014-08-03              2014-08-03      492         492   \n",
              "2        12/2027      2014-08-03              2014-08-03      492         492   \n",
              "3        09/2029      2014-08-03              2014-08-03      492         492   \n",
              "4        10/2024      2014-08-03              2014-08-03      492         492   \n",
              "\n",
              "   cardLast4Digits       transactionType  isFraud  currentBalance  \\\n",
              "0             9184              PURCHASE     True            0.00   \n",
              "1             9184              PURCHASE    False          111.33   \n",
              "2             9184              PURCHASE    False          136.08   \n",
              "3             9184              PURCHASE     True          323.48   \n",
              "4             9184  ADDRESS_VERIFICATION    False          550.82   \n",
              "\n",
              "   cardPresent  expirationDateKeyInMatch  \n",
              "0        False                     False  \n",
              "1        False                     False  \n",
              "2        False                     False  \n",
              "3        False                     False  \n",
              "4        False                     False  "
            ],
            "text/html": [
              "\n",
              "  <div id=\"df-74a7a333-3496-4a79-a255-8c52c1ff04c4\">\n",
              "    <div class=\"colab-df-container\">\n",
              "      <div>\n",
              "<style scoped>\n",
              "    .dataframe tbody tr th:only-of-type {\n",
              "        vertical-align: middle;\n",
              "    }\n",
              "\n",
              "    .dataframe tbody tr th {\n",
              "        vertical-align: top;\n",
              "    }\n",
              "\n",
              "    .dataframe thead th {\n",
              "        text-align: right;\n",
              "    }\n",
              "</style>\n",
              "<table border=\"1\" class=\"dataframe\">\n",
              "  <thead>\n",
              "    <tr style=\"text-align: right;\">\n",
              "      <th></th>\n",
              "      <th>accountNumber</th>\n",
              "      <th>customerId</th>\n",
              "      <th>creditLimit</th>\n",
              "      <th>availableMoney</th>\n",
              "      <th>transactionDateTime</th>\n",
              "      <th>transactionAmount</th>\n",
              "      <th>merchantName</th>\n",
              "      <th>acqCountry</th>\n",
              "      <th>merchantCountryCode</th>\n",
              "      <th>posEntryMode</th>\n",
              "      <th>posConditionCode</th>\n",
              "      <th>merchantCategoryCode</th>\n",
              "      <th>currentExpDate</th>\n",
              "      <th>accountOpenDate</th>\n",
              "      <th>dateOfLastAddressChange</th>\n",
              "      <th>cardCVV</th>\n",
              "      <th>enteredCVV</th>\n",
              "      <th>cardLast4Digits</th>\n",
              "      <th>transactionType</th>\n",
              "      <th>isFraud</th>\n",
              "      <th>currentBalance</th>\n",
              "      <th>cardPresent</th>\n",
              "      <th>expirationDateKeyInMatch</th>\n",
              "    </tr>\n",
              "  </thead>\n",
              "  <tbody>\n",
              "    <tr>\n",
              "      <th>0</th>\n",
              "      <td>733493772</td>\n",
              "      <td>733493772</td>\n",
              "      <td>5000</td>\n",
              "      <td>5000.00</td>\n",
              "      <td>2016-01-08T19:04:50</td>\n",
              "      <td>111.33</td>\n",
              "      <td>Lyft</td>\n",
              "      <td>US</td>\n",
              "      <td>US</td>\n",
              "      <td>5.0</td>\n",
              "      <td>1.0</td>\n",
              "      <td>rideshare</td>\n",
              "      <td>04/2020</td>\n",
              "      <td>2014-08-03</td>\n",
              "      <td>2014-08-03</td>\n",
              "      <td>492</td>\n",
              "      <td>492</td>\n",
              "      <td>9184</td>\n",
              "      <td>PURCHASE</td>\n",
              "      <td>True</td>\n",
              "      <td>0.00</td>\n",
              "      <td>False</td>\n",
              "      <td>False</td>\n",
              "    </tr>\n",
              "    <tr>\n",
              "      <th>1</th>\n",
              "      <td>733493772</td>\n",
              "      <td>733493772</td>\n",
              "      <td>5000</td>\n",
              "      <td>4888.67</td>\n",
              "      <td>2016-01-09T22:32:39</td>\n",
              "      <td>24.75</td>\n",
              "      <td>Uber</td>\n",
              "      <td>US</td>\n",
              "      <td>US</td>\n",
              "      <td>9.0</td>\n",
              "      <td>1.0</td>\n",
              "      <td>rideshare</td>\n",
              "      <td>06/2023</td>\n",
              "      <td>2014-08-03</td>\n",
              "      <td>2014-08-03</td>\n",
              "      <td>492</td>\n",
              "      <td>492</td>\n",
              "      <td>9184</td>\n",
              "      <td>PURCHASE</td>\n",
              "      <td>False</td>\n",
              "      <td>111.33</td>\n",
              "      <td>False</td>\n",
              "      <td>False</td>\n",
              "    </tr>\n",
              "    <tr>\n",
              "      <th>2</th>\n",
              "      <td>733493772</td>\n",
              "      <td>733493772</td>\n",
              "      <td>5000</td>\n",
              "      <td>4863.92</td>\n",
              "      <td>2016-01-11T13:36:55</td>\n",
              "      <td>187.40</td>\n",
              "      <td>Lyft</td>\n",
              "      <td>US</td>\n",
              "      <td>US</td>\n",
              "      <td>5.0</td>\n",
              "      <td>1.0</td>\n",
              "      <td>rideshare</td>\n",
              "      <td>12/2027</td>\n",
              "      <td>2014-08-03</td>\n",
              "      <td>2014-08-03</td>\n",
              "      <td>492</td>\n",
              "      <td>492</td>\n",
              "      <td>9184</td>\n",
              "      <td>PURCHASE</td>\n",
              "      <td>False</td>\n",
              "      <td>136.08</td>\n",
              "      <td>False</td>\n",
              "      <td>False</td>\n",
              "    </tr>\n",
              "    <tr>\n",
              "      <th>3</th>\n",
              "      <td>733493772</td>\n",
              "      <td>733493772</td>\n",
              "      <td>5000</td>\n",
              "      <td>4676.52</td>\n",
              "      <td>2016-01-11T22:47:46</td>\n",
              "      <td>227.34</td>\n",
              "      <td>Lyft</td>\n",
              "      <td>US</td>\n",
              "      <td>US</td>\n",
              "      <td>2.0</td>\n",
              "      <td>1.0</td>\n",
              "      <td>rideshare</td>\n",
              "      <td>09/2029</td>\n",
              "      <td>2014-08-03</td>\n",
              "      <td>2014-08-03</td>\n",
              "      <td>492</td>\n",
              "      <td>492</td>\n",
              "      <td>9184</td>\n",
              "      <td>PURCHASE</td>\n",
              "      <td>True</td>\n",
              "      <td>323.48</td>\n",
              "      <td>False</td>\n",
              "      <td>False</td>\n",
              "    </tr>\n",
              "    <tr>\n",
              "      <th>4</th>\n",
              "      <td>733493772</td>\n",
              "      <td>733493772</td>\n",
              "      <td>5000</td>\n",
              "      <td>4449.18</td>\n",
              "      <td>2016-01-16T01:41:11</td>\n",
              "      <td>0.00</td>\n",
              "      <td>Lyft</td>\n",
              "      <td>US</td>\n",
              "      <td>US</td>\n",
              "      <td>2.0</td>\n",
              "      <td>1.0</td>\n",
              "      <td>rideshare</td>\n",
              "      <td>10/2024</td>\n",
              "      <td>2014-08-03</td>\n",
              "      <td>2014-08-03</td>\n",
              "      <td>492</td>\n",
              "      <td>492</td>\n",
              "      <td>9184</td>\n",
              "      <td>ADDRESS_VERIFICATION</td>\n",
              "      <td>False</td>\n",
              "      <td>550.82</td>\n",
              "      <td>False</td>\n",
              "      <td>False</td>\n",
              "    </tr>\n",
              "  </tbody>\n",
              "</table>\n",
              "</div>\n",
              "      <button class=\"colab-df-convert\" onclick=\"convertToInteractive('df-74a7a333-3496-4a79-a255-8c52c1ff04c4')\"\n",
              "              title=\"Convert this dataframe to an interactive table.\"\n",
              "              style=\"display:none;\">\n",
              "        \n",
              "  <svg xmlns=\"http://www.w3.org/2000/svg\" height=\"24px\"viewBox=\"0 0 24 24\"\n",
              "       width=\"24px\">\n",
              "    <path d=\"M0 0h24v24H0V0z\" fill=\"none\"/>\n",
              "    <path d=\"M18.56 5.44l.94 2.06.94-2.06 2.06-.94-2.06-.94-.94-2.06-.94 2.06-2.06.94zm-11 1L8.5 8.5l.94-2.06 2.06-.94-2.06-.94L8.5 2.5l-.94 2.06-2.06.94zm10 10l.94 2.06.94-2.06 2.06-.94-2.06-.94-.94-2.06-.94 2.06-2.06.94z\"/><path d=\"M17.41 7.96l-1.37-1.37c-.4-.4-.92-.59-1.43-.59-.52 0-1.04.2-1.43.59L10.3 9.45l-7.72 7.72c-.78.78-.78 2.05 0 2.83L4 21.41c.39.39.9.59 1.41.59.51 0 1.02-.2 1.41-.59l7.78-7.78 2.81-2.81c.8-.78.8-2.07 0-2.86zM5.41 20L4 18.59l7.72-7.72 1.47 1.35L5.41 20z\"/>\n",
              "  </svg>\n",
              "      </button>\n",
              "      \n",
              "  <style>\n",
              "    .colab-df-container {\n",
              "      display:flex;\n",
              "      flex-wrap:wrap;\n",
              "      gap: 12px;\n",
              "    }\n",
              "\n",
              "    .colab-df-convert {\n",
              "      background-color: #E8F0FE;\n",
              "      border: none;\n",
              "      border-radius: 50%;\n",
              "      cursor: pointer;\n",
              "      display: none;\n",
              "      fill: #1967D2;\n",
              "      height: 32px;\n",
              "      padding: 0 0 0 0;\n",
              "      width: 32px;\n",
              "    }\n",
              "\n",
              "    .colab-df-convert:hover {\n",
              "      background-color: #E2EBFA;\n",
              "      box-shadow: 0px 1px 2px rgba(60, 64, 67, 0.3), 0px 1px 3px 1px rgba(60, 64, 67, 0.15);\n",
              "      fill: #174EA6;\n",
              "    }\n",
              "\n",
              "    [theme=dark] .colab-df-convert {\n",
              "      background-color: #3B4455;\n",
              "      fill: #D2E3FC;\n",
              "    }\n",
              "\n",
              "    [theme=dark] .colab-df-convert:hover {\n",
              "      background-color: #434B5C;\n",
              "      box-shadow: 0px 1px 3px 1px rgba(0, 0, 0, 0.15);\n",
              "      filter: drop-shadow(0px 1px 2px rgba(0, 0, 0, 0.3));\n",
              "      fill: #FFFFFF;\n",
              "    }\n",
              "  </style>\n",
              "\n",
              "      <script>\n",
              "        const buttonEl =\n",
              "          document.querySelector('#df-74a7a333-3496-4a79-a255-8c52c1ff04c4 button.colab-df-convert');\n",
              "        buttonEl.style.display =\n",
              "          google.colab.kernel.accessAllowed ? 'block' : 'none';\n",
              "\n",
              "        async function convertToInteractive(key) {\n",
              "          const element = document.querySelector('#df-74a7a333-3496-4a79-a255-8c52c1ff04c4');\n",
              "          const dataTable =\n",
              "            await google.colab.kernel.invokeFunction('convertToInteractive',\n",
              "                                                     [key], {});\n",
              "          if (!dataTable) return;\n",
              "\n",
              "          const docLinkHtml = 'Like what you see? Visit the ' +\n",
              "            '<a target=\"_blank\" href=https://colab.research.google.com/notebooks/data_table.ipynb>data table notebook</a>'\n",
              "            + ' to learn more about interactive tables.';\n",
              "          element.innerHTML = '';\n",
              "          dataTable['output_type'] = 'display_data';\n",
              "          await google.colab.output.renderOutput(dataTable, element);\n",
              "          const docLink = document.createElement('div');\n",
              "          docLink.innerHTML = docLinkHtml;\n",
              "          element.appendChild(docLink);\n",
              "        }\n",
              "      </script>\n",
              "    </div>\n",
              "  </div>\n",
              "  "
            ]
          },
          "metadata": {},
          "execution_count": 4
        }
      ],
      "source": [
        "# Drop column where missing value in column 100%\n",
        "df.drop(columns=['Unnamed: 0','echoBuffer','merchantCity','merchantState','merchantZip','posOnPremises','recurringAuthInd'],inplace=True)\n",
        "df.head()"
      ]
    },
    {
      "cell_type": "code",
      "execution_count": null,
      "metadata": {
        "colab": {
          "base_uri": "https://localhost:8080/"
        },
        "id": "yGCPOQPoyC9W",
        "outputId": "7219c2fb-8d39-4fd0-d95d-f316000fd007"
      },
      "outputs": [
        {
          "output_type": "execute_result",
          "data": {
            "text/plain": [
              "accountNumber                 int64\n",
              "customerId                    int64\n",
              "creditLimit                   int64\n",
              "availableMoney              float64\n",
              "transactionDateTime          object\n",
              "transactionAmount           float64\n",
              "merchantName                 object\n",
              "acqCountry                   object\n",
              "merchantCountryCode          object\n",
              "posEntryMode                float64\n",
              "posConditionCode            float64\n",
              "merchantCategoryCode         object\n",
              "currentExpDate               object\n",
              "accountOpenDate              object\n",
              "dateOfLastAddressChange      object\n",
              "cardCVV                       int64\n",
              "enteredCVV                    int64\n",
              "cardLast4Digits               int64\n",
              "transactionType              object\n",
              "isFraud                        bool\n",
              "currentBalance              float64\n",
              "cardPresent                    bool\n",
              "expirationDateKeyInMatch       bool\n",
              "dtype: object"
            ]
          },
          "metadata": {},
          "execution_count": 5
        }
      ],
      "source": [
        "# Check data types\n",
        "df.dtypes"
      ]
    },
    {
      "cell_type": "code",
      "execution_count": null,
      "metadata": {
        "colab": {
          "base_uri": "https://localhost:8080/"
        },
        "id": "V_1j1eGCyVE9",
        "outputId": "04debccd-7b4a-4f0e-87ed-faf115154b49"
      },
      "outputs": [
        {
          "output_type": "execute_result",
          "data": {
            "text/plain": [
              "accountNumber                  0\n",
              "customerId                     0\n",
              "creditLimit                    0\n",
              "availableMoney                 0\n",
              "transactionDateTime            0\n",
              "transactionAmount              0\n",
              "merchantName                   0\n",
              "acqCountry                  3913\n",
              "merchantCountryCode          624\n",
              "posEntryMode                3345\n",
              "posConditionCode             287\n",
              "merchantCategoryCode           0\n",
              "currentExpDate                 0\n",
              "accountOpenDate                0\n",
              "dateOfLastAddressChange        0\n",
              "cardCVV                        0\n",
              "enteredCVV                     0\n",
              "cardLast4Digits                0\n",
              "transactionType              589\n",
              "isFraud                        0\n",
              "currentBalance                 0\n",
              "cardPresent                    0\n",
              "expirationDateKeyInMatch       0\n",
              "dtype: int64"
            ]
          },
          "metadata": {},
          "execution_count": 6
        }
      ],
      "source": [
        "# Check missing value again\n",
        "df.isnull().sum()"
      ]
    },
    {
      "cell_type": "code",
      "execution_count": null,
      "metadata": {
        "colab": {
          "base_uri": "https://localhost:8080/"
        },
        "id": "4WvuCtWIydmc",
        "outputId": "01d030eb-22b8-48a7-db7f-3ff3597ea90a"
      },
      "outputs": [
        {
          "output_type": "execute_result",
          "data": {
            "text/plain": [
              "(641914, 23)"
            ]
          },
          "metadata": {},
          "execution_count": 7
        }
      ],
      "source": [
        "#Check shape dataset\n",
        "df.shape"
      ]
    },
    {
      "cell_type": "code",
      "execution_count": null,
      "metadata": {
        "colab": {
          "base_uri": "https://localhost:8080/"
        },
        "id": "uUcaB18Qy4a-",
        "outputId": "d25f0756-e1ff-4a8a-9514-2615a12a1584"
      },
      "outputs": [
        {
          "output_type": "execute_result",
          "data": {
            "text/plain": [
              "accountNumber                object\n",
              "customerId                   object\n",
              "creditLimit                   int64\n",
              "availableMoney              float64\n",
              "transactionDateTime          object\n",
              "transactionAmount           float64\n",
              "merchantName                 object\n",
              "acqCountry                   object\n",
              "merchantCountryCode          object\n",
              "posEntryMode                 object\n",
              "posConditionCode             object\n",
              "merchantCategoryCode         object\n",
              "currentExpDate               object\n",
              "accountOpenDate              object\n",
              "dateOfLastAddressChange      object\n",
              "cardCVV                      object\n",
              "enteredCVV                   object\n",
              "cardLast4Digits              object\n",
              "transactionType              object\n",
              "isFraud                        bool\n",
              "currentBalance              float64\n",
              "cardPresent                    bool\n",
              "expirationDateKeyInMatch       bool\n",
              "dtype: object"
            ]
          },
          "metadata": {},
          "execution_count": 8
        }
      ],
      "source": [
        "#Convert Data to Object\n",
        "df = df.astype({\"accountNumber\":'object', \"customerId\":'object',\"posEntryMode\":'object',\"posConditionCode\":'object',\"cardCVV\":'object',\"enteredCVV\":'object',\"cardLast4Digits\":'object'})\n",
        "df.dtypes"
      ]
    },
    {
      "cell_type": "code",
      "execution_count": null,
      "metadata": {
        "colab": {
          "base_uri": "https://localhost:8080/"
        },
        "id": "yS2D36uN9VOt",
        "outputId": "9e9a5cce-e862-4a70-defd-226711a57c40"
      },
      "outputs": [
        {
          "output_type": "execute_result",
          "data": {
            "text/plain": [
              "accountNumber                       object\n",
              "customerId                          object\n",
              "creditLimit                          int64\n",
              "availableMoney                     float64\n",
              "transactionDateTime         datetime64[ns]\n",
              "transactionAmount                  float64\n",
              "merchantName                        object\n",
              "acqCountry                          object\n",
              "merchantCountryCode                 object\n",
              "posEntryMode                        object\n",
              "posConditionCode                    object\n",
              "merchantCategoryCode                object\n",
              "currentExpDate              datetime64[ns]\n",
              "accountOpenDate             datetime64[ns]\n",
              "dateOfLastAddressChange     datetime64[ns]\n",
              "cardCVV                             object\n",
              "enteredCVV                          object\n",
              "cardLast4Digits                     object\n",
              "transactionType                     object\n",
              "isFraud                               bool\n",
              "currentBalance                     float64\n",
              "cardPresent                           bool\n",
              "expirationDateKeyInMatch              bool\n",
              "dtype: object"
            ]
          },
          "metadata": {},
          "execution_count": 9
        }
      ],
      "source": [
        "#converting in datetime format\n",
        "df['transactionDateTime'] = pd.to_datetime(df['transactionDateTime'])\n",
        "df['currentExpDate'] = pd.to_datetime(df['currentExpDate'])\n",
        "df['accountOpenDate'] = pd.to_datetime(df['accountOpenDate'])\n",
        "df['dateOfLastAddressChange'] = pd.to_datetime(df['dateOfLastAddressChange'])\n",
        "df.dtypes"
      ]
    },
    {
      "cell_type": "markdown",
      "source": [
        "Handling Outlier tidak dilakukan, karena akan berpengaruh dalam data yang berlabel Fraud\n",
        "\n",
        "---"
      ],
      "metadata": {
        "id": "Ogk72Bb7uaUv"
      }
    },
    {
      "cell_type": "code",
      "execution_count": null,
      "metadata": {
        "colab": {
          "base_uri": "https://localhost:8080/"
        },
        "id": "s6mVk4bTBcL5",
        "outputId": "6cf50f63-216a-4d4d-e973-e811ac6fae76"
      },
      "outputs": [
        {
          "output_type": "stream",
          "name": "stdout",
          "text": [
            "US     632303\n",
            "MEX      2626\n",
            "CAN      1870\n",
            "PR       1202\n",
            "Name: acqCountry, dtype: int64\n",
            "US     635577\n",
            "MEX      2636\n",
            "CAN      1874\n",
            "PR       1203\n",
            "Name: merchantCountryCode, dtype: int64\n",
            "5.0     255615\n",
            "9.0     193193\n",
            "2.0     160589\n",
            "90.0     16251\n",
            "80.0     12921\n",
            "Name: posEntryMode, dtype: int64\n",
            "1.0     514144\n",
            "8.0     121507\n",
            "99.0      5976\n",
            "Name: posConditionCode, dtype: int64\n",
            "PURCHASE                608685\n",
            "ADDRESS_VERIFICATION     16478\n",
            "REVERSAL                 16162\n",
            "Name: transactionType, dtype: int64\n",
            "False    630612\n",
            "True      11302\n",
            "Name: isFraud, dtype: int64\n",
            "False    340453\n",
            "True     301461\n",
            "Name: cardPresent, dtype: int64\n",
            "False    640945\n",
            "True        969\n",
            "Name: expirationDateKeyInMatch, dtype: int64\n"
          ]
        }
      ],
      "source": [
        "#Unique Value\n",
        "#When an attribute has less number of Unique Values it is always a good criteria to look at them keenly to know more about the structure as a whole and how the other attributes are behaving around these small buckets.\n",
        "for col in df.columns:\n",
        "    if(df[col].nunique() <= 5):\n",
        "        print(df[col].value_counts())"
      ]
    },
    {
      "cell_type": "markdown",
      "source": [
        "### Handling Missing Value"
      ],
      "metadata": {
        "id": "Qtwp7p57-PlG"
      }
    },
    {
      "cell_type": "code",
      "execution_count": null,
      "metadata": {
        "id": "R6kUw6FTNxYk"
      },
      "outputs": [],
      "source": [
        "#Handling Missing Value\n",
        "df['acqCountry'] = df['acqCountry'].fillna('US')\n",
        "df['merchantCountryCode'] = df['merchantCountryCode'].fillna('US')\n",
        "df.dropna(subset=[\"posEntryMode\"], axis=0, inplace=True)\n",
        "df.dropna(subset=[\"posConditionCode\"], axis=0, inplace=True)"
      ]
    },
    {
      "cell_type": "code",
      "source": [
        "# Check mean from transaction type by transaction amount\n",
        "df.groupby('transactionType').mean()['transactionAmount']"
      ],
      "metadata": {
        "colab": {
          "base_uri": "https://localhost:8080/"
        },
        "id": "SfjGXaoyumld",
        "outputId": "21e3e911-9b93-4204-9663-e4602ea376b7"
      },
      "execution_count": null,
      "outputs": [
        {
          "output_type": "execute_result",
          "data": {
            "text/plain": [
              "transactionType\n",
              "ADDRESS_VERIFICATION      0.000000\n",
              "PURCHASE                138.730479\n",
              "REVERSAL                138.751706\n",
              "Name: transactionAmount, dtype: float64"
            ]
          },
          "metadata": {},
          "execution_count": 12
        }
      ]
    },
    {
      "cell_type": "code",
      "source": [
        "# Check median from transaction type by transaction amount\n",
        "df.groupby('transactionType').median()['transactionAmount']"
      ],
      "metadata": {
        "colab": {
          "base_uri": "https://localhost:8080/"
        },
        "id": "5Z4ZFReiuokb",
        "outputId": "6bdec752-fc39-4ada-c09f-2bd7336b6e19"
      },
      "execution_count": null,
      "outputs": [
        {
          "output_type": "execute_result",
          "data": {
            "text/plain": [
              "transactionType\n",
              "ADDRESS_VERIFICATION     0.00\n",
              "PURCHASE                89.62\n",
              "REVERSAL                91.25\n",
              "Name: transactionAmount, dtype: float64"
            ]
          },
          "metadata": {},
          "execution_count": 13
        }
      ]
    },
    {
      "cell_type": "code",
      "source": [
        "# Check row where missing value in transaction type and transaction equal 0\n",
        "df[(df['transactionAmount'] == 0)&(df['transactionType'].isnull() == True)]"
      ],
      "metadata": {
        "colab": {
          "base_uri": "https://localhost:8080/"
        },
        "id": "GFfjaO_8urIg",
        "outputId": "985d07cf-0435-4bb4-90e4-0d1ca4dac77a"
      },
      "execution_count": null,
      "outputs": [
        {
          "output_type": "execute_result",
          "data": {
            "text/plain": [
              "Empty DataFrame\n",
              "Columns: [accountNumber, customerId, creditLimit, availableMoney, transactionDateTime, transactionAmount, merchantName, acqCountry, merchantCountryCode, posEntryMode, posConditionCode, merchantCategoryCode, currentExpDate, accountOpenDate, dateOfLastAddressChange, cardCVV, enteredCVV, cardLast4Digits, transactionType, isFraud, currentBalance, cardPresent, expirationDateKeyInMatch]\n",
              "Index: []"
            ],
            "text/html": [
              "\n",
              "  <div id=\"df-746eed0c-08ce-4649-8f45-866c609d46d3\">\n",
              "    <div class=\"colab-df-container\">\n",
              "      <div>\n",
              "<style scoped>\n",
              "    .dataframe tbody tr th:only-of-type {\n",
              "        vertical-align: middle;\n",
              "    }\n",
              "\n",
              "    .dataframe tbody tr th {\n",
              "        vertical-align: top;\n",
              "    }\n",
              "\n",
              "    .dataframe thead th {\n",
              "        text-align: right;\n",
              "    }\n",
              "</style>\n",
              "<table border=\"1\" class=\"dataframe\">\n",
              "  <thead>\n",
              "    <tr style=\"text-align: right;\">\n",
              "      <th></th>\n",
              "      <th>accountNumber</th>\n",
              "      <th>customerId</th>\n",
              "      <th>creditLimit</th>\n",
              "      <th>availableMoney</th>\n",
              "      <th>transactionDateTime</th>\n",
              "      <th>transactionAmount</th>\n",
              "      <th>merchantName</th>\n",
              "      <th>acqCountry</th>\n",
              "      <th>merchantCountryCode</th>\n",
              "      <th>posEntryMode</th>\n",
              "      <th>posConditionCode</th>\n",
              "      <th>merchantCategoryCode</th>\n",
              "      <th>currentExpDate</th>\n",
              "      <th>accountOpenDate</th>\n",
              "      <th>dateOfLastAddressChange</th>\n",
              "      <th>cardCVV</th>\n",
              "      <th>enteredCVV</th>\n",
              "      <th>cardLast4Digits</th>\n",
              "      <th>transactionType</th>\n",
              "      <th>isFraud</th>\n",
              "      <th>currentBalance</th>\n",
              "      <th>cardPresent</th>\n",
              "      <th>expirationDateKeyInMatch</th>\n",
              "    </tr>\n",
              "  </thead>\n",
              "  <tbody>\n",
              "  </tbody>\n",
              "</table>\n",
              "</div>\n",
              "      <button class=\"colab-df-convert\" onclick=\"convertToInteractive('df-746eed0c-08ce-4649-8f45-866c609d46d3')\"\n",
              "              title=\"Convert this dataframe to an interactive table.\"\n",
              "              style=\"display:none;\">\n",
              "        \n",
              "  <svg xmlns=\"http://www.w3.org/2000/svg\" height=\"24px\"viewBox=\"0 0 24 24\"\n",
              "       width=\"24px\">\n",
              "    <path d=\"M0 0h24v24H0V0z\" fill=\"none\"/>\n",
              "    <path d=\"M18.56 5.44l.94 2.06.94-2.06 2.06-.94-2.06-.94-.94-2.06-.94 2.06-2.06.94zm-11 1L8.5 8.5l.94-2.06 2.06-.94-2.06-.94L8.5 2.5l-.94 2.06-2.06.94zm10 10l.94 2.06.94-2.06 2.06-.94-2.06-.94-.94-2.06-.94 2.06-2.06.94z\"/><path d=\"M17.41 7.96l-1.37-1.37c-.4-.4-.92-.59-1.43-.59-.52 0-1.04.2-1.43.59L10.3 9.45l-7.72 7.72c-.78.78-.78 2.05 0 2.83L4 21.41c.39.39.9.59 1.41.59.51 0 1.02-.2 1.41-.59l7.78-7.78 2.81-2.81c.8-.78.8-2.07 0-2.86zM5.41 20L4 18.59l7.72-7.72 1.47 1.35L5.41 20z\"/>\n",
              "  </svg>\n",
              "      </button>\n",
              "      \n",
              "  <style>\n",
              "    .colab-df-container {\n",
              "      display:flex;\n",
              "      flex-wrap:wrap;\n",
              "      gap: 12px;\n",
              "    }\n",
              "\n",
              "    .colab-df-convert {\n",
              "      background-color: #E8F0FE;\n",
              "      border: none;\n",
              "      border-radius: 50%;\n",
              "      cursor: pointer;\n",
              "      display: none;\n",
              "      fill: #1967D2;\n",
              "      height: 32px;\n",
              "      padding: 0 0 0 0;\n",
              "      width: 32px;\n",
              "    }\n",
              "\n",
              "    .colab-df-convert:hover {\n",
              "      background-color: #E2EBFA;\n",
              "      box-shadow: 0px 1px 2px rgba(60, 64, 67, 0.3), 0px 1px 3px 1px rgba(60, 64, 67, 0.15);\n",
              "      fill: #174EA6;\n",
              "    }\n",
              "\n",
              "    [theme=dark] .colab-df-convert {\n",
              "      background-color: #3B4455;\n",
              "      fill: #D2E3FC;\n",
              "    }\n",
              "\n",
              "    [theme=dark] .colab-df-convert:hover {\n",
              "      background-color: #434B5C;\n",
              "      box-shadow: 0px 1px 3px 1px rgba(0, 0, 0, 0.15);\n",
              "      filter: drop-shadow(0px 1px 2px rgba(0, 0, 0, 0.3));\n",
              "      fill: #FFFFFF;\n",
              "    }\n",
              "  </style>\n",
              "\n",
              "      <script>\n",
              "        const buttonEl =\n",
              "          document.querySelector('#df-746eed0c-08ce-4649-8f45-866c609d46d3 button.colab-df-convert');\n",
              "        buttonEl.style.display =\n",
              "          google.colab.kernel.accessAllowed ? 'block' : 'none';\n",
              "\n",
              "        async function convertToInteractive(key) {\n",
              "          const element = document.querySelector('#df-746eed0c-08ce-4649-8f45-866c609d46d3');\n",
              "          const dataTable =\n",
              "            await google.colab.kernel.invokeFunction('convertToInteractive',\n",
              "                                                     [key], {});\n",
              "          if (!dataTable) return;\n",
              "\n",
              "          const docLinkHtml = 'Like what you see? Visit the ' +\n",
              "            '<a target=\"_blank\" href=https://colab.research.google.com/notebooks/data_table.ipynb>data table notebook</a>'\n",
              "            + ' to learn more about interactive tables.';\n",
              "          element.innerHTML = '';\n",
              "          dataTable['output_type'] = 'display_data';\n",
              "          await google.colab.output.renderOutput(dataTable, element);\n",
              "          const docLink = document.createElement('div');\n",
              "          docLink.innerHTML = docLinkHtml;\n",
              "          element.appendChild(docLink);\n",
              "        }\n",
              "      </script>\n",
              "    </div>\n",
              "  </div>\n",
              "  "
            ]
          },
          "metadata": {},
          "execution_count": 14
        }
      ]
    },
    {
      "cell_type": "markdown",
      "source": [
        "Tidak ditemukan data dengan jumlah transaksi 0 ketika missing value pada kolom tipe transaksi\n",
        "\n",
        "---"
      ],
      "metadata": {
        "id": "OXLl_8PF9eoo"
      }
    },
    {
      "cell_type": "code",
      "source": [
        "#Fill with modus\n",
        "df['transactionType'] = df['transactionType'].fillna('PURCHASE')"
      ],
      "metadata": {
        "id": "rnIEh9SUus83"
      },
      "execution_count": null,
      "outputs": []
    },
    {
      "cell_type": "code",
      "execution_count": null,
      "metadata": {
        "colab": {
          "base_uri": "https://localhost:8080/"
        },
        "id": "Nlv4oCbcPDbQ",
        "outputId": "0ff3a864-27d6-4e97-b982-75a9f1463a42"
      },
      "outputs": [
        {
          "output_type": "execute_result",
          "data": {
            "text/plain": [
              "accountNumber               0\n",
              "customerId                  0\n",
              "creditLimit                 0\n",
              "availableMoney              0\n",
              "transactionDateTime         0\n",
              "transactionAmount           0\n",
              "merchantName                0\n",
              "acqCountry                  0\n",
              "merchantCountryCode         0\n",
              "posEntryMode                0\n",
              "posConditionCode            0\n",
              "merchantCategoryCode        0\n",
              "currentExpDate              0\n",
              "accountOpenDate             0\n",
              "dateOfLastAddressChange     0\n",
              "cardCVV                     0\n",
              "enteredCVV                  0\n",
              "cardLast4Digits             0\n",
              "transactionType             0\n",
              "isFraud                     0\n",
              "currentBalance              0\n",
              "cardPresent                 0\n",
              "expirationDateKeyInMatch    0\n",
              "dtype: int64"
            ]
          },
          "metadata": {},
          "execution_count": 16
        }
      ],
      "source": [
        "# check the missing values again to make sure the missing values are resolved\n",
        "df.isnull().sum()"
      ]
    },
    {
      "cell_type": "markdown",
      "source": [
        "Find Duplicate Data"
      ],
      "metadata": {
        "id": "BFKp6RmVv35V"
      }
    },
    {
      "cell_type": "code",
      "execution_count": null,
      "metadata": {
        "colab": {
          "base_uri": "https://localhost:8080/"
        },
        "id": "dUK3IsH6AKyG",
        "outputId": "9096a424-4044-4e82-c807-da94b790c066"
      },
      "outputs": [
        {
          "output_type": "execute_result",
          "data": {
            "text/plain": [
              "Empty DataFrame\n",
              "Columns: [accountNumber, customerId, creditLimit, availableMoney, transactionDateTime, transactionAmount, merchantName, acqCountry, merchantCountryCode, posEntryMode, posConditionCode, merchantCategoryCode, currentExpDate, accountOpenDate, dateOfLastAddressChange, cardCVV, enteredCVV, cardLast4Digits, transactionType, isFraud, currentBalance, cardPresent, expirationDateKeyInMatch]\n",
              "Index: []"
            ],
            "text/html": [
              "\n",
              "  <div id=\"df-495031a4-ee8c-4485-973d-51464531d213\">\n",
              "    <div class=\"colab-df-container\">\n",
              "      <div>\n",
              "<style scoped>\n",
              "    .dataframe tbody tr th:only-of-type {\n",
              "        vertical-align: middle;\n",
              "    }\n",
              "\n",
              "    .dataframe tbody tr th {\n",
              "        vertical-align: top;\n",
              "    }\n",
              "\n",
              "    .dataframe thead th {\n",
              "        text-align: right;\n",
              "    }\n",
              "</style>\n",
              "<table border=\"1\" class=\"dataframe\">\n",
              "  <thead>\n",
              "    <tr style=\"text-align: right;\">\n",
              "      <th></th>\n",
              "      <th>accountNumber</th>\n",
              "      <th>customerId</th>\n",
              "      <th>creditLimit</th>\n",
              "      <th>availableMoney</th>\n",
              "      <th>transactionDateTime</th>\n",
              "      <th>transactionAmount</th>\n",
              "      <th>merchantName</th>\n",
              "      <th>acqCountry</th>\n",
              "      <th>merchantCountryCode</th>\n",
              "      <th>posEntryMode</th>\n",
              "      <th>posConditionCode</th>\n",
              "      <th>merchantCategoryCode</th>\n",
              "      <th>currentExpDate</th>\n",
              "      <th>accountOpenDate</th>\n",
              "      <th>dateOfLastAddressChange</th>\n",
              "      <th>cardCVV</th>\n",
              "      <th>enteredCVV</th>\n",
              "      <th>cardLast4Digits</th>\n",
              "      <th>transactionType</th>\n",
              "      <th>isFraud</th>\n",
              "      <th>currentBalance</th>\n",
              "      <th>cardPresent</th>\n",
              "      <th>expirationDateKeyInMatch</th>\n",
              "    </tr>\n",
              "  </thead>\n",
              "  <tbody>\n",
              "  </tbody>\n",
              "</table>\n",
              "</div>\n",
              "      <button class=\"colab-df-convert\" onclick=\"convertToInteractive('df-495031a4-ee8c-4485-973d-51464531d213')\"\n",
              "              title=\"Convert this dataframe to an interactive table.\"\n",
              "              style=\"display:none;\">\n",
              "        \n",
              "  <svg xmlns=\"http://www.w3.org/2000/svg\" height=\"24px\"viewBox=\"0 0 24 24\"\n",
              "       width=\"24px\">\n",
              "    <path d=\"M0 0h24v24H0V0z\" fill=\"none\"/>\n",
              "    <path d=\"M18.56 5.44l.94 2.06.94-2.06 2.06-.94-2.06-.94-.94-2.06-.94 2.06-2.06.94zm-11 1L8.5 8.5l.94-2.06 2.06-.94-2.06-.94L8.5 2.5l-.94 2.06-2.06.94zm10 10l.94 2.06.94-2.06 2.06-.94-2.06-.94-.94-2.06-.94 2.06-2.06.94z\"/><path d=\"M17.41 7.96l-1.37-1.37c-.4-.4-.92-.59-1.43-.59-.52 0-1.04.2-1.43.59L10.3 9.45l-7.72 7.72c-.78.78-.78 2.05 0 2.83L4 21.41c.39.39.9.59 1.41.59.51 0 1.02-.2 1.41-.59l7.78-7.78 2.81-2.81c.8-.78.8-2.07 0-2.86zM5.41 20L4 18.59l7.72-7.72 1.47 1.35L5.41 20z\"/>\n",
              "  </svg>\n",
              "      </button>\n",
              "      \n",
              "  <style>\n",
              "    .colab-df-container {\n",
              "      display:flex;\n",
              "      flex-wrap:wrap;\n",
              "      gap: 12px;\n",
              "    }\n",
              "\n",
              "    .colab-df-convert {\n",
              "      background-color: #E8F0FE;\n",
              "      border: none;\n",
              "      border-radius: 50%;\n",
              "      cursor: pointer;\n",
              "      display: none;\n",
              "      fill: #1967D2;\n",
              "      height: 32px;\n",
              "      padding: 0 0 0 0;\n",
              "      width: 32px;\n",
              "    }\n",
              "\n",
              "    .colab-df-convert:hover {\n",
              "      background-color: #E2EBFA;\n",
              "      box-shadow: 0px 1px 2px rgba(60, 64, 67, 0.3), 0px 1px 3px 1px rgba(60, 64, 67, 0.15);\n",
              "      fill: #174EA6;\n",
              "    }\n",
              "\n",
              "    [theme=dark] .colab-df-convert {\n",
              "      background-color: #3B4455;\n",
              "      fill: #D2E3FC;\n",
              "    }\n",
              "\n",
              "    [theme=dark] .colab-df-convert:hover {\n",
              "      background-color: #434B5C;\n",
              "      box-shadow: 0px 1px 3px 1px rgba(0, 0, 0, 0.15);\n",
              "      filter: drop-shadow(0px 1px 2px rgba(0, 0, 0, 0.3));\n",
              "      fill: #FFFFFF;\n",
              "    }\n",
              "  </style>\n",
              "\n",
              "      <script>\n",
              "        const buttonEl =\n",
              "          document.querySelector('#df-495031a4-ee8c-4485-973d-51464531d213 button.colab-df-convert');\n",
              "        buttonEl.style.display =\n",
              "          google.colab.kernel.accessAllowed ? 'block' : 'none';\n",
              "\n",
              "        async function convertToInteractive(key) {\n",
              "          const element = document.querySelector('#df-495031a4-ee8c-4485-973d-51464531d213');\n",
              "          const dataTable =\n",
              "            await google.colab.kernel.invokeFunction('convertToInteractive',\n",
              "                                                     [key], {});\n",
              "          if (!dataTable) return;\n",
              "\n",
              "          const docLinkHtml = 'Like what you see? Visit the ' +\n",
              "            '<a target=\"_blank\" href=https://colab.research.google.com/notebooks/data_table.ipynb>data table notebook</a>'\n",
              "            + ' to learn more about interactive tables.';\n",
              "          element.innerHTML = '';\n",
              "          dataTable['output_type'] = 'display_data';\n",
              "          await google.colab.output.renderOutput(dataTable, element);\n",
              "          const docLink = document.createElement('div');\n",
              "          docLink.innerHTML = docLinkHtml;\n",
              "          element.appendChild(docLink);\n",
              "        }\n",
              "      </script>\n",
              "    </div>\n",
              "  </div>\n",
              "  "
            ]
          },
          "metadata": {},
          "execution_count": 17
        }
      ],
      "source": [
        "#find transactions of same amount within the same account from the same merchant by transactionType and transactionDateTime\n",
        "duplicated = df[df.duplicated(['accountNumber', 'customerId', 'transactionAmount', 'merchantName','transactionType','transactionDateTime'], keep=False)]\n",
        "duplicated"
      ]
    },
    {
      "cell_type": "markdown",
      "metadata": {
        "id": "_VGj7q8qGLdw"
      },
      "source": [
        "Duplicate data not found "
      ]
    },
    {
      "cell_type": "markdown",
      "source": [
        "### Summary of dataset by data types"
      ],
      "metadata": {
        "id": "nSunbjgV-vu6"
      }
    },
    {
      "cell_type": "code",
      "execution_count": null,
      "metadata": {
        "colab": {
          "base_uri": "https://localhost:8080/"
        },
        "id": "hYUMfilZIH1H",
        "outputId": "2181f04f-8215-4195-ccc2-7aa92d844759"
      },
      "outputs": [
        {
          "output_type": "execute_result",
          "data": {
            "text/plain": [
              "         creditLimit  availableMoney  transactionAmount  currentBalance\n",
              "count  638285.000000   638285.000000      638285.000000   638285.000000\n",
              "mean    10697.229294     6651.964333         135.176189     4045.264961\n",
              "std     11460.791551     9226.588766         147.058492     5947.629920\n",
              "min       250.000000    -1244.930000           0.000000        0.000000\n",
              "25%      5000.000000     1115.330000          32.320000      502.760000\n",
              "50%      7500.000000     3577.570000          85.820000     2152.150000\n",
              "75%     15000.000000     8163.550000         189.050000     5006.710000\n",
              "max     50000.000000    50000.000000        1825.250000    47496.500000"
            ],
            "text/html": [
              "\n",
              "  <div id=\"df-0b726af3-de79-4254-ae1d-872864a8ec47\">\n",
              "    <div class=\"colab-df-container\">\n",
              "      <div>\n",
              "<style scoped>\n",
              "    .dataframe tbody tr th:only-of-type {\n",
              "        vertical-align: middle;\n",
              "    }\n",
              "\n",
              "    .dataframe tbody tr th {\n",
              "        vertical-align: top;\n",
              "    }\n",
              "\n",
              "    .dataframe thead th {\n",
              "        text-align: right;\n",
              "    }\n",
              "</style>\n",
              "<table border=\"1\" class=\"dataframe\">\n",
              "  <thead>\n",
              "    <tr style=\"text-align: right;\">\n",
              "      <th></th>\n",
              "      <th>creditLimit</th>\n",
              "      <th>availableMoney</th>\n",
              "      <th>transactionAmount</th>\n",
              "      <th>currentBalance</th>\n",
              "    </tr>\n",
              "  </thead>\n",
              "  <tbody>\n",
              "    <tr>\n",
              "      <th>count</th>\n",
              "      <td>638285.000000</td>\n",
              "      <td>638285.000000</td>\n",
              "      <td>638285.000000</td>\n",
              "      <td>638285.000000</td>\n",
              "    </tr>\n",
              "    <tr>\n",
              "      <th>mean</th>\n",
              "      <td>10697.229294</td>\n",
              "      <td>6651.964333</td>\n",
              "      <td>135.176189</td>\n",
              "      <td>4045.264961</td>\n",
              "    </tr>\n",
              "    <tr>\n",
              "      <th>std</th>\n",
              "      <td>11460.791551</td>\n",
              "      <td>9226.588766</td>\n",
              "      <td>147.058492</td>\n",
              "      <td>5947.629920</td>\n",
              "    </tr>\n",
              "    <tr>\n",
              "      <th>min</th>\n",
              "      <td>250.000000</td>\n",
              "      <td>-1244.930000</td>\n",
              "      <td>0.000000</td>\n",
              "      <td>0.000000</td>\n",
              "    </tr>\n",
              "    <tr>\n",
              "      <th>25%</th>\n",
              "      <td>5000.000000</td>\n",
              "      <td>1115.330000</td>\n",
              "      <td>32.320000</td>\n",
              "      <td>502.760000</td>\n",
              "    </tr>\n",
              "    <tr>\n",
              "      <th>50%</th>\n",
              "      <td>7500.000000</td>\n",
              "      <td>3577.570000</td>\n",
              "      <td>85.820000</td>\n",
              "      <td>2152.150000</td>\n",
              "    </tr>\n",
              "    <tr>\n",
              "      <th>75%</th>\n",
              "      <td>15000.000000</td>\n",
              "      <td>8163.550000</td>\n",
              "      <td>189.050000</td>\n",
              "      <td>5006.710000</td>\n",
              "    </tr>\n",
              "    <tr>\n",
              "      <th>max</th>\n",
              "      <td>50000.000000</td>\n",
              "      <td>50000.000000</td>\n",
              "      <td>1825.250000</td>\n",
              "      <td>47496.500000</td>\n",
              "    </tr>\n",
              "  </tbody>\n",
              "</table>\n",
              "</div>\n",
              "      <button class=\"colab-df-convert\" onclick=\"convertToInteractive('df-0b726af3-de79-4254-ae1d-872864a8ec47')\"\n",
              "              title=\"Convert this dataframe to an interactive table.\"\n",
              "              style=\"display:none;\">\n",
              "        \n",
              "  <svg xmlns=\"http://www.w3.org/2000/svg\" height=\"24px\"viewBox=\"0 0 24 24\"\n",
              "       width=\"24px\">\n",
              "    <path d=\"M0 0h24v24H0V0z\" fill=\"none\"/>\n",
              "    <path d=\"M18.56 5.44l.94 2.06.94-2.06 2.06-.94-2.06-.94-.94-2.06-.94 2.06-2.06.94zm-11 1L8.5 8.5l.94-2.06 2.06-.94-2.06-.94L8.5 2.5l-.94 2.06-2.06.94zm10 10l.94 2.06.94-2.06 2.06-.94-2.06-.94-.94-2.06-.94 2.06-2.06.94z\"/><path d=\"M17.41 7.96l-1.37-1.37c-.4-.4-.92-.59-1.43-.59-.52 0-1.04.2-1.43.59L10.3 9.45l-7.72 7.72c-.78.78-.78 2.05 0 2.83L4 21.41c.39.39.9.59 1.41.59.51 0 1.02-.2 1.41-.59l7.78-7.78 2.81-2.81c.8-.78.8-2.07 0-2.86zM5.41 20L4 18.59l7.72-7.72 1.47 1.35L5.41 20z\"/>\n",
              "  </svg>\n",
              "      </button>\n",
              "      \n",
              "  <style>\n",
              "    .colab-df-container {\n",
              "      display:flex;\n",
              "      flex-wrap:wrap;\n",
              "      gap: 12px;\n",
              "    }\n",
              "\n",
              "    .colab-df-convert {\n",
              "      background-color: #E8F0FE;\n",
              "      border: none;\n",
              "      border-radius: 50%;\n",
              "      cursor: pointer;\n",
              "      display: none;\n",
              "      fill: #1967D2;\n",
              "      height: 32px;\n",
              "      padding: 0 0 0 0;\n",
              "      width: 32px;\n",
              "    }\n",
              "\n",
              "    .colab-df-convert:hover {\n",
              "      background-color: #E2EBFA;\n",
              "      box-shadow: 0px 1px 2px rgba(60, 64, 67, 0.3), 0px 1px 3px 1px rgba(60, 64, 67, 0.15);\n",
              "      fill: #174EA6;\n",
              "    }\n",
              "\n",
              "    [theme=dark] .colab-df-convert {\n",
              "      background-color: #3B4455;\n",
              "      fill: #D2E3FC;\n",
              "    }\n",
              "\n",
              "    [theme=dark] .colab-df-convert:hover {\n",
              "      background-color: #434B5C;\n",
              "      box-shadow: 0px 1px 3px 1px rgba(0, 0, 0, 0.15);\n",
              "      filter: drop-shadow(0px 1px 2px rgba(0, 0, 0, 0.3));\n",
              "      fill: #FFFFFF;\n",
              "    }\n",
              "  </style>\n",
              "\n",
              "      <script>\n",
              "        const buttonEl =\n",
              "          document.querySelector('#df-0b726af3-de79-4254-ae1d-872864a8ec47 button.colab-df-convert');\n",
              "        buttonEl.style.display =\n",
              "          google.colab.kernel.accessAllowed ? 'block' : 'none';\n",
              "\n",
              "        async function convertToInteractive(key) {\n",
              "          const element = document.querySelector('#df-0b726af3-de79-4254-ae1d-872864a8ec47');\n",
              "          const dataTable =\n",
              "            await google.colab.kernel.invokeFunction('convertToInteractive',\n",
              "                                                     [key], {});\n",
              "          if (!dataTable) return;\n",
              "\n",
              "          const docLinkHtml = 'Like what you see? Visit the ' +\n",
              "            '<a target=\"_blank\" href=https://colab.research.google.com/notebooks/data_table.ipynb>data table notebook</a>'\n",
              "            + ' to learn more about interactive tables.';\n",
              "          element.innerHTML = '';\n",
              "          dataTable['output_type'] = 'display_data';\n",
              "          await google.colab.output.renderOutput(dataTable, element);\n",
              "          const docLink = document.createElement('div');\n",
              "          docLink.innerHTML = docLinkHtml;\n",
              "          element.appendChild(docLink);\n",
              "        }\n",
              "      </script>\n",
              "    </div>\n",
              "  </div>\n",
              "  "
            ]
          },
          "metadata": {},
          "execution_count": 18
        }
      ],
      "source": [
        "#Summary by numerik type\n",
        "df.describe()"
      ]
    },
    {
      "cell_type": "code",
      "execution_count": null,
      "metadata": {
        "colab": {
          "base_uri": "https://localhost:8080/"
        },
        "id": "zNayWPH-gOpg",
        "outputId": "b1307be3-e853-48ac-92c9-552dc47d762b"
      },
      "outputs": [
        {
          "output_type": "execute_result",
          "data": {
            "text/plain": [
              "        accountNumber  customerId merchantName acqCountry merchantCountryCode  \\\n",
              "count          638285      638285       638285     638285              638285   \n",
              "unique           5000        5000         2492          4                   4   \n",
              "top         318001076   318001076         Lyft         US                  US   \n",
              "freq             9988        9988        25159     632623              632609   \n",
              "\n",
              "        posEntryMode  posConditionCode merchantCategoryCode  cardCVV  \\\n",
              "count       638285.0          638285.0               638285   638285   \n",
              "unique           5.0               3.0                   19      899   \n",
              "top              5.0               1.0        online_retail      633   \n",
              "freq        255509.0          511470.0               160637    11304   \n",
              "\n",
              "        enteredCVV  cardLast4Digits transactionType  \n",
              "count       638285           638285          638285  \n",
              "unique         980             5134               3  \n",
              "top            633             1789        PURCHASE  \n",
              "freq         11204             9988          605820  "
            ],
            "text/html": [
              "\n",
              "  <div id=\"df-a58ea876-c2d0-4676-97f2-1a4a4616b2a6\">\n",
              "    <div class=\"colab-df-container\">\n",
              "      <div>\n",
              "<style scoped>\n",
              "    .dataframe tbody tr th:only-of-type {\n",
              "        vertical-align: middle;\n",
              "    }\n",
              "\n",
              "    .dataframe tbody tr th {\n",
              "        vertical-align: top;\n",
              "    }\n",
              "\n",
              "    .dataframe thead th {\n",
              "        text-align: right;\n",
              "    }\n",
              "</style>\n",
              "<table border=\"1\" class=\"dataframe\">\n",
              "  <thead>\n",
              "    <tr style=\"text-align: right;\">\n",
              "      <th></th>\n",
              "      <th>accountNumber</th>\n",
              "      <th>customerId</th>\n",
              "      <th>merchantName</th>\n",
              "      <th>acqCountry</th>\n",
              "      <th>merchantCountryCode</th>\n",
              "      <th>posEntryMode</th>\n",
              "      <th>posConditionCode</th>\n",
              "      <th>merchantCategoryCode</th>\n",
              "      <th>cardCVV</th>\n",
              "      <th>enteredCVV</th>\n",
              "      <th>cardLast4Digits</th>\n",
              "      <th>transactionType</th>\n",
              "    </tr>\n",
              "  </thead>\n",
              "  <tbody>\n",
              "    <tr>\n",
              "      <th>count</th>\n",
              "      <td>638285</td>\n",
              "      <td>638285</td>\n",
              "      <td>638285</td>\n",
              "      <td>638285</td>\n",
              "      <td>638285</td>\n",
              "      <td>638285.0</td>\n",
              "      <td>638285.0</td>\n",
              "      <td>638285</td>\n",
              "      <td>638285</td>\n",
              "      <td>638285</td>\n",
              "      <td>638285</td>\n",
              "      <td>638285</td>\n",
              "    </tr>\n",
              "    <tr>\n",
              "      <th>unique</th>\n",
              "      <td>5000</td>\n",
              "      <td>5000</td>\n",
              "      <td>2492</td>\n",
              "      <td>4</td>\n",
              "      <td>4</td>\n",
              "      <td>5.0</td>\n",
              "      <td>3.0</td>\n",
              "      <td>19</td>\n",
              "      <td>899</td>\n",
              "      <td>980</td>\n",
              "      <td>5134</td>\n",
              "      <td>3</td>\n",
              "    </tr>\n",
              "    <tr>\n",
              "      <th>top</th>\n",
              "      <td>318001076</td>\n",
              "      <td>318001076</td>\n",
              "      <td>Lyft</td>\n",
              "      <td>US</td>\n",
              "      <td>US</td>\n",
              "      <td>5.0</td>\n",
              "      <td>1.0</td>\n",
              "      <td>online_retail</td>\n",
              "      <td>633</td>\n",
              "      <td>633</td>\n",
              "      <td>1789</td>\n",
              "      <td>PURCHASE</td>\n",
              "    </tr>\n",
              "    <tr>\n",
              "      <th>freq</th>\n",
              "      <td>9988</td>\n",
              "      <td>9988</td>\n",
              "      <td>25159</td>\n",
              "      <td>632623</td>\n",
              "      <td>632609</td>\n",
              "      <td>255509.0</td>\n",
              "      <td>511470.0</td>\n",
              "      <td>160637</td>\n",
              "      <td>11304</td>\n",
              "      <td>11204</td>\n",
              "      <td>9988</td>\n",
              "      <td>605820</td>\n",
              "    </tr>\n",
              "  </tbody>\n",
              "</table>\n",
              "</div>\n",
              "      <button class=\"colab-df-convert\" onclick=\"convertToInteractive('df-a58ea876-c2d0-4676-97f2-1a4a4616b2a6')\"\n",
              "              title=\"Convert this dataframe to an interactive table.\"\n",
              "              style=\"display:none;\">\n",
              "        \n",
              "  <svg xmlns=\"http://www.w3.org/2000/svg\" height=\"24px\"viewBox=\"0 0 24 24\"\n",
              "       width=\"24px\">\n",
              "    <path d=\"M0 0h24v24H0V0z\" fill=\"none\"/>\n",
              "    <path d=\"M18.56 5.44l.94 2.06.94-2.06 2.06-.94-2.06-.94-.94-2.06-.94 2.06-2.06.94zm-11 1L8.5 8.5l.94-2.06 2.06-.94-2.06-.94L8.5 2.5l-.94 2.06-2.06.94zm10 10l.94 2.06.94-2.06 2.06-.94-2.06-.94-.94-2.06-.94 2.06-2.06.94z\"/><path d=\"M17.41 7.96l-1.37-1.37c-.4-.4-.92-.59-1.43-.59-.52 0-1.04.2-1.43.59L10.3 9.45l-7.72 7.72c-.78.78-.78 2.05 0 2.83L4 21.41c.39.39.9.59 1.41.59.51 0 1.02-.2 1.41-.59l7.78-7.78 2.81-2.81c.8-.78.8-2.07 0-2.86zM5.41 20L4 18.59l7.72-7.72 1.47 1.35L5.41 20z\"/>\n",
              "  </svg>\n",
              "      </button>\n",
              "      \n",
              "  <style>\n",
              "    .colab-df-container {\n",
              "      display:flex;\n",
              "      flex-wrap:wrap;\n",
              "      gap: 12px;\n",
              "    }\n",
              "\n",
              "    .colab-df-convert {\n",
              "      background-color: #E8F0FE;\n",
              "      border: none;\n",
              "      border-radius: 50%;\n",
              "      cursor: pointer;\n",
              "      display: none;\n",
              "      fill: #1967D2;\n",
              "      height: 32px;\n",
              "      padding: 0 0 0 0;\n",
              "      width: 32px;\n",
              "    }\n",
              "\n",
              "    .colab-df-convert:hover {\n",
              "      background-color: #E2EBFA;\n",
              "      box-shadow: 0px 1px 2px rgba(60, 64, 67, 0.3), 0px 1px 3px 1px rgba(60, 64, 67, 0.15);\n",
              "      fill: #174EA6;\n",
              "    }\n",
              "\n",
              "    [theme=dark] .colab-df-convert {\n",
              "      background-color: #3B4455;\n",
              "      fill: #D2E3FC;\n",
              "    }\n",
              "\n",
              "    [theme=dark] .colab-df-convert:hover {\n",
              "      background-color: #434B5C;\n",
              "      box-shadow: 0px 1px 3px 1px rgba(0, 0, 0, 0.15);\n",
              "      filter: drop-shadow(0px 1px 2px rgba(0, 0, 0, 0.3));\n",
              "      fill: #FFFFFF;\n",
              "    }\n",
              "  </style>\n",
              "\n",
              "      <script>\n",
              "        const buttonEl =\n",
              "          document.querySelector('#df-a58ea876-c2d0-4676-97f2-1a4a4616b2a6 button.colab-df-convert');\n",
              "        buttonEl.style.display =\n",
              "          google.colab.kernel.accessAllowed ? 'block' : 'none';\n",
              "\n",
              "        async function convertToInteractive(key) {\n",
              "          const element = document.querySelector('#df-a58ea876-c2d0-4676-97f2-1a4a4616b2a6');\n",
              "          const dataTable =\n",
              "            await google.colab.kernel.invokeFunction('convertToInteractive',\n",
              "                                                     [key], {});\n",
              "          if (!dataTable) return;\n",
              "\n",
              "          const docLinkHtml = 'Like what you see? Visit the ' +\n",
              "            '<a target=\"_blank\" href=https://colab.research.google.com/notebooks/data_table.ipynb>data table notebook</a>'\n",
              "            + ' to learn more about interactive tables.';\n",
              "          element.innerHTML = '';\n",
              "          dataTable['output_type'] = 'display_data';\n",
              "          await google.colab.output.renderOutput(dataTable, element);\n",
              "          const docLink = document.createElement('div');\n",
              "          docLink.innerHTML = docLinkHtml;\n",
              "          element.appendChild(docLink);\n",
              "        }\n",
              "      </script>\n",
              "    </div>\n",
              "  </div>\n",
              "  "
            ]
          },
          "metadata": {},
          "execution_count": 19
        }
      ],
      "source": [
        "#Summary by object type\n",
        "df.describe(include='object')"
      ]
    },
    {
      "cell_type": "code",
      "execution_count": null,
      "metadata": {
        "colab": {
          "base_uri": "https://localhost:8080/"
        },
        "id": "eZNtB4DygS5F",
        "outputId": "2b8b6843-1792-47a2-a431-d746a92e205c"
      },
      "outputs": [
        {
          "output_type": "stream",
          "name": "stderr",
          "text": [
            "/usr/local/lib/python3.7/dist-packages/ipykernel_launcher.py:2: FutureWarning: Treating datetime data as categorical rather than numeric in `.describe` is deprecated and will be removed in a future version of pandas. Specify `datetime_is_numeric=True` to silence this warning and adopt the future behavior now.\n",
            "  \n"
          ]
        },
        {
          "output_type": "execute_result",
          "data": {
            "text/plain": [
              "        transactionDateTime       currentExpDate      accountOpenDate  \\\n",
              "count                638285               638285               638285   \n",
              "unique               631920                  165                 1826   \n",
              "top     2016-10-16 12:53:14  2020-08-01 00:00:00  2015-12-11 00:00:00   \n",
              "freq                      3                 4171                10090   \n",
              "first   2016-01-01 00:00:37  2018-05-01 00:00:00  1985-12-25 00:00:00   \n",
              "last    2016-12-30 23:59:27  2032-01-01 00:00:00  2015-12-31 00:00:00   \n",
              "\n",
              "       dateOfLastAddressChange  \n",
              "count                   638285  \n",
              "unique                    2186  \n",
              "top        2016-07-20 00:00:00  \n",
              "freq                      3925  \n",
              "first      1985-12-25 00:00:00  \n",
              "last       2016-12-30 00:00:00  "
            ],
            "text/html": [
              "\n",
              "  <div id=\"df-2d5eed0e-e18c-4e5c-8f3d-174a54530bfe\">\n",
              "    <div class=\"colab-df-container\">\n",
              "      <div>\n",
              "<style scoped>\n",
              "    .dataframe tbody tr th:only-of-type {\n",
              "        vertical-align: middle;\n",
              "    }\n",
              "\n",
              "    .dataframe tbody tr th {\n",
              "        vertical-align: top;\n",
              "    }\n",
              "\n",
              "    .dataframe thead th {\n",
              "        text-align: right;\n",
              "    }\n",
              "</style>\n",
              "<table border=\"1\" class=\"dataframe\">\n",
              "  <thead>\n",
              "    <tr style=\"text-align: right;\">\n",
              "      <th></th>\n",
              "      <th>transactionDateTime</th>\n",
              "      <th>currentExpDate</th>\n",
              "      <th>accountOpenDate</th>\n",
              "      <th>dateOfLastAddressChange</th>\n",
              "    </tr>\n",
              "  </thead>\n",
              "  <tbody>\n",
              "    <tr>\n",
              "      <th>count</th>\n",
              "      <td>638285</td>\n",
              "      <td>638285</td>\n",
              "      <td>638285</td>\n",
              "      <td>638285</td>\n",
              "    </tr>\n",
              "    <tr>\n",
              "      <th>unique</th>\n",
              "      <td>631920</td>\n",
              "      <td>165</td>\n",
              "      <td>1826</td>\n",
              "      <td>2186</td>\n",
              "    </tr>\n",
              "    <tr>\n",
              "      <th>top</th>\n",
              "      <td>2016-10-16 12:53:14</td>\n",
              "      <td>2020-08-01 00:00:00</td>\n",
              "      <td>2015-12-11 00:00:00</td>\n",
              "      <td>2016-07-20 00:00:00</td>\n",
              "    </tr>\n",
              "    <tr>\n",
              "      <th>freq</th>\n",
              "      <td>3</td>\n",
              "      <td>4171</td>\n",
              "      <td>10090</td>\n",
              "      <td>3925</td>\n",
              "    </tr>\n",
              "    <tr>\n",
              "      <th>first</th>\n",
              "      <td>2016-01-01 00:00:37</td>\n",
              "      <td>2018-05-01 00:00:00</td>\n",
              "      <td>1985-12-25 00:00:00</td>\n",
              "      <td>1985-12-25 00:00:00</td>\n",
              "    </tr>\n",
              "    <tr>\n",
              "      <th>last</th>\n",
              "      <td>2016-12-30 23:59:27</td>\n",
              "      <td>2032-01-01 00:00:00</td>\n",
              "      <td>2015-12-31 00:00:00</td>\n",
              "      <td>2016-12-30 00:00:00</td>\n",
              "    </tr>\n",
              "  </tbody>\n",
              "</table>\n",
              "</div>\n",
              "      <button class=\"colab-df-convert\" onclick=\"convertToInteractive('df-2d5eed0e-e18c-4e5c-8f3d-174a54530bfe')\"\n",
              "              title=\"Convert this dataframe to an interactive table.\"\n",
              "              style=\"display:none;\">\n",
              "        \n",
              "  <svg xmlns=\"http://www.w3.org/2000/svg\" height=\"24px\"viewBox=\"0 0 24 24\"\n",
              "       width=\"24px\">\n",
              "    <path d=\"M0 0h24v24H0V0z\" fill=\"none\"/>\n",
              "    <path d=\"M18.56 5.44l.94 2.06.94-2.06 2.06-.94-2.06-.94-.94-2.06-.94 2.06-2.06.94zm-11 1L8.5 8.5l.94-2.06 2.06-.94-2.06-.94L8.5 2.5l-.94 2.06-2.06.94zm10 10l.94 2.06.94-2.06 2.06-.94-2.06-.94-.94-2.06-.94 2.06-2.06.94z\"/><path d=\"M17.41 7.96l-1.37-1.37c-.4-.4-.92-.59-1.43-.59-.52 0-1.04.2-1.43.59L10.3 9.45l-7.72 7.72c-.78.78-.78 2.05 0 2.83L4 21.41c.39.39.9.59 1.41.59.51 0 1.02-.2 1.41-.59l7.78-7.78 2.81-2.81c.8-.78.8-2.07 0-2.86zM5.41 20L4 18.59l7.72-7.72 1.47 1.35L5.41 20z\"/>\n",
              "  </svg>\n",
              "      </button>\n",
              "      \n",
              "  <style>\n",
              "    .colab-df-container {\n",
              "      display:flex;\n",
              "      flex-wrap:wrap;\n",
              "      gap: 12px;\n",
              "    }\n",
              "\n",
              "    .colab-df-convert {\n",
              "      background-color: #E8F0FE;\n",
              "      border: none;\n",
              "      border-radius: 50%;\n",
              "      cursor: pointer;\n",
              "      display: none;\n",
              "      fill: #1967D2;\n",
              "      height: 32px;\n",
              "      padding: 0 0 0 0;\n",
              "      width: 32px;\n",
              "    }\n",
              "\n",
              "    .colab-df-convert:hover {\n",
              "      background-color: #E2EBFA;\n",
              "      box-shadow: 0px 1px 2px rgba(60, 64, 67, 0.3), 0px 1px 3px 1px rgba(60, 64, 67, 0.15);\n",
              "      fill: #174EA6;\n",
              "    }\n",
              "\n",
              "    [theme=dark] .colab-df-convert {\n",
              "      background-color: #3B4455;\n",
              "      fill: #D2E3FC;\n",
              "    }\n",
              "\n",
              "    [theme=dark] .colab-df-convert:hover {\n",
              "      background-color: #434B5C;\n",
              "      box-shadow: 0px 1px 3px 1px rgba(0, 0, 0, 0.15);\n",
              "      filter: drop-shadow(0px 1px 2px rgba(0, 0, 0, 0.3));\n",
              "      fill: #FFFFFF;\n",
              "    }\n",
              "  </style>\n",
              "\n",
              "      <script>\n",
              "        const buttonEl =\n",
              "          document.querySelector('#df-2d5eed0e-e18c-4e5c-8f3d-174a54530bfe button.colab-df-convert');\n",
              "        buttonEl.style.display =\n",
              "          google.colab.kernel.accessAllowed ? 'block' : 'none';\n",
              "\n",
              "        async function convertToInteractive(key) {\n",
              "          const element = document.querySelector('#df-2d5eed0e-e18c-4e5c-8f3d-174a54530bfe');\n",
              "          const dataTable =\n",
              "            await google.colab.kernel.invokeFunction('convertToInteractive',\n",
              "                                                     [key], {});\n",
              "          if (!dataTable) return;\n",
              "\n",
              "          const docLinkHtml = 'Like what you see? Visit the ' +\n",
              "            '<a target=\"_blank\" href=https://colab.research.google.com/notebooks/data_table.ipynb>data table notebook</a>'\n",
              "            + ' to learn more about interactive tables.';\n",
              "          element.innerHTML = '';\n",
              "          dataTable['output_type'] = 'display_data';\n",
              "          await google.colab.output.renderOutput(dataTable, element);\n",
              "          const docLink = document.createElement('div');\n",
              "          docLink.innerHTML = docLinkHtml;\n",
              "          element.appendChild(docLink);\n",
              "        }\n",
              "      </script>\n",
              "    </div>\n",
              "  </div>\n",
              "  "
            ]
          },
          "metadata": {},
          "execution_count": 20
        }
      ],
      "source": [
        "#Summary by datetime type\n",
        "df.describe(include='datetime')"
      ]
    },
    {
      "cell_type": "code",
      "execution_count": null,
      "metadata": {
        "colab": {
          "base_uri": "https://localhost:8080/"
        },
        "id": "rQY_z7p7gasp",
        "outputId": "62a38aa3-9d40-48a1-ef82-cd37c1359463"
      },
      "outputs": [
        {
          "output_type": "execute_result",
          "data": {
            "text/plain": [
              "       isFraud cardPresent expirationDateKeyInMatch\n",
              "count   638285      638285                   638285\n",
              "unique       2           2                        2\n",
              "top      False       False                    False\n",
              "freq    627252      338522                   637322"
            ],
            "text/html": [
              "\n",
              "  <div id=\"df-8150dcbd-b3ee-4e58-8b83-4c237764b6cd\">\n",
              "    <div class=\"colab-df-container\">\n",
              "      <div>\n",
              "<style scoped>\n",
              "    .dataframe tbody tr th:only-of-type {\n",
              "        vertical-align: middle;\n",
              "    }\n",
              "\n",
              "    .dataframe tbody tr th {\n",
              "        vertical-align: top;\n",
              "    }\n",
              "\n",
              "    .dataframe thead th {\n",
              "        text-align: right;\n",
              "    }\n",
              "</style>\n",
              "<table border=\"1\" class=\"dataframe\">\n",
              "  <thead>\n",
              "    <tr style=\"text-align: right;\">\n",
              "      <th></th>\n",
              "      <th>isFraud</th>\n",
              "      <th>cardPresent</th>\n",
              "      <th>expirationDateKeyInMatch</th>\n",
              "    </tr>\n",
              "  </thead>\n",
              "  <tbody>\n",
              "    <tr>\n",
              "      <th>count</th>\n",
              "      <td>638285</td>\n",
              "      <td>638285</td>\n",
              "      <td>638285</td>\n",
              "    </tr>\n",
              "    <tr>\n",
              "      <th>unique</th>\n",
              "      <td>2</td>\n",
              "      <td>2</td>\n",
              "      <td>2</td>\n",
              "    </tr>\n",
              "    <tr>\n",
              "      <th>top</th>\n",
              "      <td>False</td>\n",
              "      <td>False</td>\n",
              "      <td>False</td>\n",
              "    </tr>\n",
              "    <tr>\n",
              "      <th>freq</th>\n",
              "      <td>627252</td>\n",
              "      <td>338522</td>\n",
              "      <td>637322</td>\n",
              "    </tr>\n",
              "  </tbody>\n",
              "</table>\n",
              "</div>\n",
              "      <button class=\"colab-df-convert\" onclick=\"convertToInteractive('df-8150dcbd-b3ee-4e58-8b83-4c237764b6cd')\"\n",
              "              title=\"Convert this dataframe to an interactive table.\"\n",
              "              style=\"display:none;\">\n",
              "        \n",
              "  <svg xmlns=\"http://www.w3.org/2000/svg\" height=\"24px\"viewBox=\"0 0 24 24\"\n",
              "       width=\"24px\">\n",
              "    <path d=\"M0 0h24v24H0V0z\" fill=\"none\"/>\n",
              "    <path d=\"M18.56 5.44l.94 2.06.94-2.06 2.06-.94-2.06-.94-.94-2.06-.94 2.06-2.06.94zm-11 1L8.5 8.5l.94-2.06 2.06-.94-2.06-.94L8.5 2.5l-.94 2.06-2.06.94zm10 10l.94 2.06.94-2.06 2.06-.94-2.06-.94-.94-2.06-.94 2.06-2.06.94z\"/><path d=\"M17.41 7.96l-1.37-1.37c-.4-.4-.92-.59-1.43-.59-.52 0-1.04.2-1.43.59L10.3 9.45l-7.72 7.72c-.78.78-.78 2.05 0 2.83L4 21.41c.39.39.9.59 1.41.59.51 0 1.02-.2 1.41-.59l7.78-7.78 2.81-2.81c.8-.78.8-2.07 0-2.86zM5.41 20L4 18.59l7.72-7.72 1.47 1.35L5.41 20z\"/>\n",
              "  </svg>\n",
              "      </button>\n",
              "      \n",
              "  <style>\n",
              "    .colab-df-container {\n",
              "      display:flex;\n",
              "      flex-wrap:wrap;\n",
              "      gap: 12px;\n",
              "    }\n",
              "\n",
              "    .colab-df-convert {\n",
              "      background-color: #E8F0FE;\n",
              "      border: none;\n",
              "      border-radius: 50%;\n",
              "      cursor: pointer;\n",
              "      display: none;\n",
              "      fill: #1967D2;\n",
              "      height: 32px;\n",
              "      padding: 0 0 0 0;\n",
              "      width: 32px;\n",
              "    }\n",
              "\n",
              "    .colab-df-convert:hover {\n",
              "      background-color: #E2EBFA;\n",
              "      box-shadow: 0px 1px 2px rgba(60, 64, 67, 0.3), 0px 1px 3px 1px rgba(60, 64, 67, 0.15);\n",
              "      fill: #174EA6;\n",
              "    }\n",
              "\n",
              "    [theme=dark] .colab-df-convert {\n",
              "      background-color: #3B4455;\n",
              "      fill: #D2E3FC;\n",
              "    }\n",
              "\n",
              "    [theme=dark] .colab-df-convert:hover {\n",
              "      background-color: #434B5C;\n",
              "      box-shadow: 0px 1px 3px 1px rgba(0, 0, 0, 0.15);\n",
              "      filter: drop-shadow(0px 1px 2px rgba(0, 0, 0, 0.3));\n",
              "      fill: #FFFFFF;\n",
              "    }\n",
              "  </style>\n",
              "\n",
              "      <script>\n",
              "        const buttonEl =\n",
              "          document.querySelector('#df-8150dcbd-b3ee-4e58-8b83-4c237764b6cd button.colab-df-convert');\n",
              "        buttonEl.style.display =\n",
              "          google.colab.kernel.accessAllowed ? 'block' : 'none';\n",
              "\n",
              "        async function convertToInteractive(key) {\n",
              "          const element = document.querySelector('#df-8150dcbd-b3ee-4e58-8b83-4c237764b6cd');\n",
              "          const dataTable =\n",
              "            await google.colab.kernel.invokeFunction('convertToInteractive',\n",
              "                                                     [key], {});\n",
              "          if (!dataTable) return;\n",
              "\n",
              "          const docLinkHtml = 'Like what you see? Visit the ' +\n",
              "            '<a target=\"_blank\" href=https://colab.research.google.com/notebooks/data_table.ipynb>data table notebook</a>'\n",
              "            + ' to learn more about interactive tables.';\n",
              "          element.innerHTML = '';\n",
              "          dataTable['output_type'] = 'display_data';\n",
              "          await google.colab.output.renderOutput(dataTable, element);\n",
              "          const docLink = document.createElement('div');\n",
              "          docLink.innerHTML = docLinkHtml;\n",
              "          element.appendChild(docLink);\n",
              "        }\n",
              "      </script>\n",
              "    </div>\n",
              "  </div>\n",
              "  "
            ]
          },
          "metadata": {},
          "execution_count": 21
        }
      ],
      "source": [
        "#Summary by boolean type\n",
        "df.describe(include='boolean')"
      ]
    },
    {
      "cell_type": "markdown",
      "metadata": {
        "id": "alw_KF__Ulsb"
      },
      "source": [
        "# Exploratory Data Analysis"
      ]
    },
    {
      "cell_type": "code",
      "execution_count": null,
      "metadata": {
        "colab": {
          "base_uri": "https://localhost:8080/"
        },
        "id": "5NzQeA5QUlGJ",
        "outputId": "cdf4daeb-79cd-4394-bc6c-330c170bedf0"
      },
      "outputs": [
        {
          "output_type": "stream",
          "name": "stdout",
          "text": [
            "False    627252\n",
            "True      11033\n",
            "Name: isFraud, dtype: int64\n",
            "False    0.982715\n",
            "True     0.017285\n",
            "Name: isFraud, dtype: float64\n"
          ]
        },
        {
          "output_type": "stream",
          "name": "stderr",
          "text": [
            "/usr/local/lib/python3.7/dist-packages/seaborn/_decorators.py:43: FutureWarning: Pass the following variable as a keyword arg: x. From version 0.12, the only valid positional argument will be `data`, and passing other arguments without an explicit keyword will result in an error or misinterpretation.\n",
            "  FutureWarning\n"
          ]
        },
        {
          "output_type": "display_data",
          "data": {
            "text/plain": [
              "<Figure size 504x360 with 1 Axes>"
            ],
            "image/png": "[encoded data removed]"
          },
          "metadata": {
            "needs_background": "light"
          }
        }
      ],
      "source": [
        "# Check many transactions are labeled fraud\n",
        "print(df['isFraud'].value_counts())\n",
        "print(df['isFraud'].value_counts()/len(df))\n",
        "\n",
        "plt.figure(figsize = (7,5))\n",
        "graph = sns.countplot(df.isFraud)\n",
        "graph.set_xticklabels(graph.get_xticklabels())\n",
        "graph.set_title(\"Count Fraud\")\n",
        "\n",
        "for bar in graph.patches:\n",
        "  graph.annotate(format(bar.get_height(), '.2f'),\n",
        "                   (bar.get_x() + bar.get_width() / 2,\n",
        "                    bar.get_height()), ha='center', va='center',\n",
        "                   size=10, xytext=(0, 5),\n",
        "                   textcoords='offset points')"
      ]
    },
    {
      "cell_type": "code",
      "execution_count": null,
      "metadata": {
        "colab": {
          "base_uri": "https://localhost:8080/"
        },
        "id": "mtIAKAXCWmjb",
        "outputId": "f022aeb1-b234-4f3f-8c8b-837791b8666b"
      },
      "outputs": [
        {
          "output_type": "execute_result",
          "data": {
            "text/plain": [
              "Lyft          25159\n",
              "Uber          25107\n",
              "gap.com       13760\n",
              "apple.com     13538\n",
              "target.com    13528\n",
              "Name: merchantName, dtype: int64"
            ]
          },
          "metadata": {},
          "execution_count": 23
        }
      ],
      "source": [
        "# Check top merchants name transaction\n",
        "df['merchantName'].value_counts().head()"
      ]
    },
    {
      "cell_type": "code",
      "execution_count": null,
      "metadata": {
        "colab": {
          "base_uri": "https://localhost:8080/"
        },
        "id": "EsRqXRnaZg5I",
        "outputId": "35c237de-80da-453d-a526-5332b162ddb1"
      },
      "outputs": [
        {
          "output_type": "execute_result",
          "data": {
            "text/plain": [
              "         transactionAmount\n",
              "isFraud                   \n",
              "False           133.465217\n",
              "True            232.448969"
            ],
            "text/html": [
              "\n",
              "  <div id=\"df-c009c6a2-de9a-4b9c-b435-07987d170e30\">\n",
              "    <div class=\"colab-df-container\">\n",
              "      <div>\n",
              "<style scoped>\n",
              "    .dataframe tbody tr th:only-of-type {\n",
              "        vertical-align: middle;\n",
              "    }\n",
              "\n",
              "    .dataframe tbody tr th {\n",
              "        vertical-align: top;\n",
              "    }\n",
              "\n",
              "    .dataframe thead th {\n",
              "        text-align: right;\n",
              "    }\n",
              "</style>\n",
              "<table border=\"1\" class=\"dataframe\">\n",
              "  <thead>\n",
              "    <tr style=\"text-align: right;\">\n",
              "      <th></th>\n",
              "      <th>transactionAmount</th>\n",
              "    </tr>\n",
              "    <tr>\n",
              "      <th>isFraud</th>\n",
              "      <th></th>\n",
              "    </tr>\n",
              "  </thead>\n",
              "  <tbody>\n",
              "    <tr>\n",
              "      <th>False</th>\n",
              "      <td>133.465217</td>\n",
              "    </tr>\n",
              "    <tr>\n",
              "      <th>True</th>\n",
              "      <td>232.448969</td>\n",
              "    </tr>\n",
              "  </tbody>\n",
              "</table>\n",
              "</div>\n",
              "      <button class=\"colab-df-convert\" onclick=\"convertToInteractive('df-c009c6a2-de9a-4b9c-b435-07987d170e30')\"\n",
              "              title=\"Convert this dataframe to an interactive table.\"\n",
              "              style=\"display:none;\">\n",
              "        \n",
              "  <svg xmlns=\"http://www.w3.org/2000/svg\" height=\"24px\"viewBox=\"0 0 24 24\"\n",
              "       width=\"24px\">\n",
              "    <path d=\"M0 0h24v24H0V0z\" fill=\"none\"/>\n",
              "    <path d=\"M18.56 5.44l.94 2.06.94-2.06 2.06-.94-2.06-.94-.94-2.06-.94 2.06-2.06.94zm-11 1L8.5 8.5l.94-2.06 2.06-.94-2.06-.94L8.5 2.5l-.94 2.06-2.06.94zm10 10l.94 2.06.94-2.06 2.06-.94-2.06-.94-.94-2.06-.94 2.06-2.06.94z\"/><path d=\"M17.41 7.96l-1.37-1.37c-.4-.4-.92-.59-1.43-.59-.52 0-1.04.2-1.43.59L10.3 9.45l-7.72 7.72c-.78.78-.78 2.05 0 2.83L4 21.41c.39.39.9.59 1.41.59.51 0 1.02-.2 1.41-.59l7.78-7.78 2.81-2.81c.8-.78.8-2.07 0-2.86zM5.41 20L4 18.59l7.72-7.72 1.47 1.35L5.41 20z\"/>\n",
              "  </svg>\n",
              "      </button>\n",
              "      \n",
              "  <style>\n",
              "    .colab-df-container {\n",
              "      display:flex;\n",
              "      flex-wrap:wrap;\n",
              "      gap: 12px;\n",
              "    }\n",
              "\n",
              "    .colab-df-convert {\n",
              "      background-color: #E8F0FE;\n",
              "      border: none;\n",
              "      border-radius: 50%;\n",
              "      cursor: pointer;\n",
              "      display: none;\n",
              "      fill: #1967D2;\n",
              "      height: 32px;\n",
              "      padding: 0 0 0 0;\n",
              "      width: 32px;\n",
              "    }\n",
              "\n",
              "    .colab-df-convert:hover {\n",
              "      background-color: #E2EBFA;\n",
              "      box-shadow: 0px 1px 2px rgba(60, 64, 67, 0.3), 0px 1px 3px 1px rgba(60, 64, 67, 0.15);\n",
              "      fill: #174EA6;\n",
              "    }\n",
              "\n",
              "    [theme=dark] .colab-df-convert {\n",
              "      background-color: #3B4455;\n",
              "      fill: #D2E3FC;\n",
              "    }\n",
              "\n",
              "    [theme=dark] .colab-df-convert:hover {\n",
              "      background-color: #434B5C;\n",
              "      box-shadow: 0px 1px 3px 1px rgba(0, 0, 0, 0.15);\n",
              "      filter: drop-shadow(0px 1px 2px rgba(0, 0, 0, 0.3));\n",
              "      fill: #FFFFFF;\n",
              "    }\n",
              "  </style>\n",
              "\n",
              "      <script>\n",
              "        const buttonEl =\n",
              "          document.querySelector('#df-c009c6a2-de9a-4b9c-b435-07987d170e30 button.colab-df-convert');\n",
              "        buttonEl.style.display =\n",
              "          google.colab.kernel.accessAllowed ? 'block' : 'none';\n",
              "\n",
              "        async function convertToInteractive(key) {\n",
              "          const element = document.querySelector('#df-c009c6a2-de9a-4b9c-b435-07987d170e30');\n",
              "          const dataTable =\n",
              "            await google.colab.kernel.invokeFunction('convertToInteractive',\n",
              "                                                     [key], {});\n",
              "          if (!dataTable) return;\n",
              "\n",
              "          const docLinkHtml = 'Like what you see? Visit the ' +\n",
              "            '<a target=\"_blank\" href=https://colab.research.google.com/notebooks/data_table.ipynb>data table notebook</a>'\n",
              "            + ' to learn more about interactive tables.';\n",
              "          element.innerHTML = '';\n",
              "          dataTable['output_type'] = 'display_data';\n",
              "          await google.colab.output.renderOutput(dataTable, element);\n",
              "          const docLink = document.createElement('div');\n",
              "          docLink.innerHTML = docLinkHtml;\n",
              "          element.appendChild(docLink);\n",
              "        }\n",
              "      </script>\n",
              "    </div>\n",
              "  </div>\n",
              "  "
            ]
          },
          "metadata": {},
          "execution_count": 24
        }
      ],
      "source": [
        "# Check average amount of transactions on Fraudulent Transactions and transactions on Legitimate Transactions?\n",
        "df.groupby('isFraud').mean()[['transactionAmount']]"
      ]
    },
    {
      "cell_type": "code",
      "execution_count": null,
      "metadata": {
        "colab": {
          "base_uri": "https://localhost:8080/"
        },
        "id": "tbCc7dgMuKiY",
        "outputId": "69271bd7-5428-44df-87cf-f1c0ad27f574"
      },
      "outputs": [
        {
          "output_type": "display_data",
          "data": {
            "text/plain": [
              "<Figure size 648x504 with 1 Axes>"
            ],
            "image/png": "[encoded data removed]"
          },
          "metadata": {
            "needs_background": "light"
          }
        }
      ],
      "source": [
        "# Check distribution fraud by transaction type\n",
        "plt.figure(figsize = (9,7))\n",
        "graph = sns.countplot(data=df, x='transactionType', hue='isFraud')\n",
        "graph.set_title(\"Transaction Type\")\n",
        "\n",
        "for bar in graph.patches:\n",
        "  graph.annotate(format(bar.get_height()),\n",
        "                   (bar.get_x() + bar.get_width() / 2,\n",
        "                    bar.get_height()), ha='center', va='center',\n",
        "                   size=10, xytext=(0, 7),\n",
        "                   textcoords='offset points')"
      ]
    },
    {
      "cell_type": "code",
      "execution_count": null,
      "metadata": {
        "colab": {
          "base_uri": "https://localhost:8080/"
        },
        "id": "NHo-mrt4bIlo",
        "outputId": "6cf41c92-4e0e-46d9-c035-5572bc1da57c"
      },
      "outputs": [
        {
          "output_type": "stream",
          "name": "stdout",
          "text": [
            "       accountNumber customerId accountOpenDate transactionDateTime  isFraud\n",
            "305732     789836144  789836144      1985-12-25 2016-08-05 02:43:22    False\n",
            "       accountNumber customerId accountOpenDate transactionDateTime  isFraud\n",
            "452252     890796581  890796581      2015-12-31 2016-07-15 22:13:38    False\n"
          ]
        }
      ],
      "source": [
        "# Check the earliest account open date regarding the dataset?\n",
        "print(df.sort_values('accountOpenDate').head(1)[['accountNumber','customerId','accountOpenDate','transactionDateTime','isFraud']])\n",
        "\n",
        "# Check the most recent account open date regarding the dataset?\n",
        "print(df.sort_values('accountOpenDate',ascending=False,).head(1)[['accountNumber','customerId','accountOpenDate','transactionDateTime','isFraud']])"
      ]
    },
    {
      "cell_type": "code",
      "execution_count": null,
      "metadata": {
        "colab": {
          "base_uri": "https://localhost:8080/"
        },
        "id": "mrHiUHyCjAOf",
        "outputId": "de721cde-e6d1-4317-aa46-bf1f9c2aadef"
      },
      "outputs": [
        {
          "output_type": "stream",
          "name": "stderr",
          "text": [
            "/usr/local/lib/python3.7/dist-packages/seaborn/distributions.py:2619: FutureWarning: `distplot` is a deprecated function and will be removed in a future version. Please adapt your code to use either `displot` (a figure-level function with similar flexibility) or `histplot` (an axes-level function for histograms).\n",
            "  warnings.warn(msg, FutureWarning)\n"
          ]
        },
        {
          "output_type": "execute_result",
          "data": {
            "text/plain": [
              "Text(0.5, 1.0, 'Distribution Plot')"
            ]
          },
          "metadata": {},
          "execution_count": 27
        },
        {
          "output_type": "display_data",
          "data": {
            "text/plain": [
              "<Figure size 432x288 with 1 Axes>"
            ],
            "image/png": "[encoded data removed]"
          },
          "metadata": {
            "needs_background": "light"
          }
        }
      ],
      "source": [
        "# Check distribution transaction amount\n",
        "sns.distplot(df.transactionAmount).set_title(\"Distribution Plot\")"
      ]
    },
    {
      "cell_type": "code",
      "execution_count": null,
      "metadata": {
        "colab": {
          "base_uri": "https://localhost:8080/"
        },
        "id": "E0FPCZ4towXh",
        "outputId": "fb1942f7-29e7-417f-ad1d-e0f4f66265b4"
      },
      "outputs": [
        {
          "output_type": "execute_result",
          "data": {
            "text/plain": [
              "Text(0.5, 1.0, 'Boxplot Transaction Amount')"
            ]
          },
          "metadata": {},
          "execution_count": 28
        },
        {
          "output_type": "display_data",
          "data": {
            "text/plain": [
              "<Figure size 432x288 with 1 Axes>"
            ],
            "image/png": "[encoded data removed]"
          },
          "metadata": {
            "needs_background": "light"
          }
        }
      ],
      "source": [
        "# check boxplot from transaction amount\n",
        "plt.boxplot(df['transactionAmount'])\n",
        "plt.title(\"Boxplot Transaction Amount\")"
      ]
    },
    {
      "cell_type": "code",
      "execution_count": null,
      "metadata": {
        "colab": {
          "base_uri": "https://localhost:8080/"
        },
        "id": "xPG1QqstiKwv",
        "outputId": "956ff63b-2102-462f-ed0e-d9e37fa6f65f"
      },
      "outputs": [
        {
          "output_type": "execute_result",
          "data": {
            "text/plain": [
              "<matplotlib.axes._subplots.AxesSubplot at 0x7f7d364045d0>"
            ]
          },
          "metadata": {},
          "execution_count": 29
        },
        {
          "output_type": "display_data",
          "data": {
            "text/plain": [
              "<Figure size 432x504 with 1 Axes>"
            ],
            "image/png": "[encoded data removed]"
          },
          "metadata": {
            "needs_background": "light"
          }
        }
      ],
      "source": [
        "# Check scatter plot from isfraud with transaction amount\n",
        "plt.figure(figsize=(6,7))\n",
        "sns.scatterplot(data=df, x='isFraud', y='transactionAmount')"
      ]
    },
    {
      "cell_type": "code",
      "execution_count": null,
      "metadata": {
        "colab": {
          "base_uri": "https://localhost:8080/"
        },
        "id": "4yCPyU06KVo5",
        "outputId": "7c884912-4d88-458b-b8a7-8ffe21e9501d"
      },
      "outputs": [
        {
          "output_type": "execute_result",
          "data": {
            "text/plain": [
              "<matplotlib.axes._subplots.AxesSubplot at 0x7f7d363b62d0>"
            ]
          },
          "metadata": {},
          "execution_count": 30
        },
        {
          "output_type": "display_data",
          "data": {
            "text/plain": [
              "<Figure size 432x504 with 1 Axes>"
            ],
            "image/png": "[encoded data removed]"
          },
          "metadata": {
            "needs_background": "light"
          }
        }
      ],
      "source": [
        "# Check scatter plot from transaction type with transaction amount\n",
        "plt.figure(figsize=(6,7))\n",
        "sns.scatterplot(data=df, x='transactionType', y='transactionAmount')"
      ]
    },
    {
      "cell_type": "code",
      "execution_count": null,
      "metadata": {
        "colab": {
          "base_uri": "https://localhost:8080/"
        },
        "id": "74gHXtxhjNTo",
        "outputId": "2550289f-5678-4061-f118-d1a1b275ea78"
      },
      "outputs": [
        {
          "output_type": "display_data",
          "data": {
            "text/plain": [
              "<Figure size 576x360 with 1 Axes>"
            ],
            "image/png": "[encoded data removed]"
          },
          "metadata": {
            "needs_background": "light"
          }
        }
      ],
      "source": [
        "# Check distribution fraud by pos condition code\n",
        "plt.figure(figsize = (8,5))\n",
        "ax = sns.countplot(data = df, x='posConditionCode', hue = 'isFraud')\n",
        "for bar in ax.patches:\n",
        "  ax.annotate(format(bar.get_height()),\n",
        "                   (bar.get_x() + bar.get_width() / 2,\n",
        "                    bar.get_height()), ha='center', va='center',\n",
        "                   size=10, xytext=(0, 5),\n",
        "                   textcoords='offset points')"
      ]
    },
    {
      "cell_type": "code",
      "execution_count": null,
      "metadata": {
        "colab": {
          "base_uri": "https://localhost:8080/"
        },
        "id": "ckEdcQuzjyYC",
        "outputId": "6c5a48d1-f279-46f6-d097-6d963a050e2d"
      },
      "outputs": [
        {
          "output_type": "display_data",
          "data": {
            "text/plain": [
              "<Figure size 576x432 with 1 Axes>"
            ],
            "image/png": "[encoded data removed]"
          },
          "metadata": {
            "needs_background": "light"
          }
        }
      ],
      "source": [
        "# Check distribution fraud by merchant country code\n",
        "plt.figure(figsize = (8,6))\n",
        "ax = sns.countplot(data = df, x='merchantCountryCode', hue = 'isFraud')\n",
        "for bar in ax.patches:\n",
        "  ax.annotate(format(bar.get_height()),\n",
        "                   (bar.get_x() + bar.get_width() / 2,\n",
        "                    bar.get_height()), ha='center', va='center',\n",
        "                   size=10, xytext=(0, 5),\n",
        "                   textcoords='offset points')"
      ]
    },
    {
      "cell_type": "code",
      "execution_count": null,
      "metadata": {
        "colab": {
          "base_uri": "https://localhost:8080/"
        },
        "id": "14euaqdlkWhe",
        "outputId": "7119fe0f-c28d-41d6-bb03-3d6a2aa9d825"
      },
      "outputs": [
        {
          "output_type": "display_data",
          "data": {
            "text/plain": [
              "<Figure size 576x360 with 1 Axes>"
            ],
            "image/png": "[encoded data removed]"
          },
          "metadata": {
            "needs_background": "light"
          }
        }
      ],
      "source": [
        "# Check distribution fraud by card present\n",
        "plt.figure(figsize = (8,5))\n",
        "ax = sns.countplot(data = df, x='cardPresent', hue = 'isFraud')\n",
        "for bar in ax.patches:\n",
        "  ax.annotate(format(bar.get_height()),\n",
        "                   (bar.get_x() + bar.get_width() / 2,\n",
        "                    bar.get_height()), ha='center', va='center',\n",
        "                   size=10, xytext=(0, 5),\n",
        "                   textcoords='offset points')"
      ]
    },
    {
      "cell_type": "markdown",
      "metadata": {
        "id": "-0P0NFCKutr-"
      },
      "source": [
        "# Data Pre-processing"
      ]
    },
    {
      "cell_type": "code",
      "execution_count": null,
      "metadata": {
        "colab": {
          "base_uri": "https://localhost:8080/",
          "height": 270
        },
        "id": "Vp3nJZF77W6s",
        "outputId": "8cacce1c-93be-4108-e8ef-ebfe99400c72"
      },
      "outputs": [
        {
          "output_type": "execute_result",
          "data": {
            "text/plain": [
              "   creditLimit  availableMoney  transactionAmount acqCountry  \\\n",
              "0         5000         5000.00             111.33         US   \n",
              "1         5000         4888.67              24.75         US   \n",
              "2         5000         4863.92             187.40         US   \n",
              "3         5000         4676.52             227.34         US   \n",
              "4         5000         4449.18               0.00         US   \n",
              "\n",
              "  merchantCountryCode posEntryMode posConditionCode merchantCategoryCode  \\\n",
              "0                  US          5.0              1.0            rideshare   \n",
              "1                  US          9.0              1.0            rideshare   \n",
              "2                  US          5.0              1.0            rideshare   \n",
              "3                  US          2.0              1.0            rideshare   \n",
              "4                  US          2.0              1.0            rideshare   \n",
              "\n",
              "        transactionType  isFraud  currentBalance  cardPresent  \\\n",
              "0              PURCHASE     True            0.00        False   \n",
              "1              PURCHASE    False          111.33        False   \n",
              "2              PURCHASE    False          136.08        False   \n",
              "3              PURCHASE     True          323.48        False   \n",
              "4  ADDRESS_VERIFICATION    False          550.82        False   \n",
              "\n",
              "   expirationDateKeyInMatch  \n",
              "0                     False  \n",
              "1                     False  \n",
              "2                     False  \n",
              "3                     False  \n",
              "4                     False  "
            ],
            "text/html": [
              "\n",
              "  <div id=\"df-c08cda5f-7bc6-4239-b7d4-c895e0095240\">\n",
              "    <div class=\"colab-df-container\">\n",
              "      <div>\n",
              "<style scoped>\n",
              "    .dataframe tbody tr th:only-of-type {\n",
              "        vertical-align: middle;\n",
              "    }\n",
              "\n",
              "    .dataframe tbody tr th {\n",
              "        vertical-align: top;\n",
              "    }\n",
              "\n",
              "    .dataframe thead th {\n",
              "        text-align: right;\n",
              "    }\n",
              "</style>\n",
              "<table border=\"1\" class=\"dataframe\">\n",
              "  <thead>\n",
              "    <tr style=\"text-align: right;\">\n",
              "      <th></th>\n",
              "      <th>creditLimit</th>\n",
              "      <th>availableMoney</th>\n",
              "      <th>transactionAmount</th>\n",
              "      <th>acqCountry</th>\n",
              "      <th>merchantCountryCode</th>\n",
              "      <th>posEntryMode</th>\n",
              "      <th>posConditionCode</th>\n",
              "      <th>merchantCategoryCode</th>\n",
              "      <th>transactionType</th>\n",
              "      <th>isFraud</th>\n",
              "      <th>currentBalance</th>\n",
              "      <th>cardPresent</th>\n",
              "      <th>expirationDateKeyInMatch</th>\n",
              "    </tr>\n",
              "  </thead>\n",
              "  <tbody>\n",
              "    <tr>\n",
              "      <th>0</th>\n",
              "      <td>5000</td>\n",
              "      <td>5000.00</td>\n",
              "      <td>111.33</td>\n",
              "      <td>US</td>\n",
              "      <td>US</td>\n",
              "      <td>5.0</td>\n",
              "      <td>1.0</td>\n",
              "      <td>rideshare</td>\n",
              "      <td>PURCHASE</td>\n",
              "      <td>True</td>\n",
              "      <td>0.00</td>\n",
              "      <td>False</td>\n",
              "      <td>False</td>\n",
              "    </tr>\n",
              "    <tr>\n",
              "      <th>1</th>\n",
              "      <td>5000</td>\n",
              "      <td>4888.67</td>\n",
              "      <td>24.75</td>\n",
              "      <td>US</td>\n",
              "      <td>US</td>\n",
              "      <td>9.0</td>\n",
              "      <td>1.0</td>\n",
              "      <td>rideshare</td>\n",
              "      <td>PURCHASE</td>\n",
              "      <td>False</td>\n",
              "      <td>111.33</td>\n",
              "      <td>False</td>\n",
              "      <td>False</td>\n",
              "    </tr>\n",
              "    <tr>\n",
              "      <th>2</th>\n",
              "      <td>5000</td>\n",
              "      <td>4863.92</td>\n",
              "      <td>187.40</td>\n",
              "      <td>US</td>\n",
              "      <td>US</td>\n",
              "      <td>5.0</td>\n",
              "      <td>1.0</td>\n",
              "      <td>rideshare</td>\n",
              "      <td>PURCHASE</td>\n",
              "      <td>False</td>\n",
              "      <td>136.08</td>\n",
              "      <td>False</td>\n",
              "      <td>False</td>\n",
              "    </tr>\n",
              "    <tr>\n",
              "      <th>3</th>\n",
              "      <td>5000</td>\n",
              "      <td>4676.52</td>\n",
              "      <td>227.34</td>\n",
              "      <td>US</td>\n",
              "      <td>US</td>\n",
              "      <td>2.0</td>\n",
              "      <td>1.0</td>\n",
              "      <td>rideshare</td>\n",
              "      <td>PURCHASE</td>\n",
              "      <td>True</td>\n",
              "      <td>323.48</td>\n",
              "      <td>False</td>\n",
              "      <td>False</td>\n",
              "    </tr>\n",
              "    <tr>\n",
              "      <th>4</th>\n",
              "      <td>5000</td>\n",
              "      <td>4449.18</td>\n",
              "      <td>0.00</td>\n",
              "      <td>US</td>\n",
              "      <td>US</td>\n",
              "      <td>2.0</td>\n",
              "      <td>1.0</td>\n",
              "      <td>rideshare</td>\n",
              "      <td>ADDRESS_VERIFICATION</td>\n",
              "      <td>False</td>\n",
              "      <td>550.82</td>\n",
              "      <td>False</td>\n",
              "      <td>False</td>\n",
              "    </tr>\n",
              "  </tbody>\n",
              "</table>\n",
              "</div>\n",
              "      <button class=\"colab-df-convert\" onclick=\"convertToInteractive('df-c08cda5f-7bc6-4239-b7d4-c895e0095240')\"\n",
              "              title=\"Convert this dataframe to an interactive table.\"\n",
              "              style=\"display:none;\">\n",
              "        \n",
              "  <svg xmlns=\"http://www.w3.org/2000/svg\" height=\"24px\"viewBox=\"0 0 24 24\"\n",
              "       width=\"24px\">\n",
              "    <path d=\"M0 0h24v24H0V0z\" fill=\"none\"/>\n",
              "    <path d=\"M18.56 5.44l.94 2.06.94-2.06 2.06-.94-2.06-.94-.94-2.06-.94 2.06-2.06.94zm-11 1L8.5 8.5l.94-2.06 2.06-.94-2.06-.94L8.5 2.5l-.94 2.06-2.06.94zm10 10l.94 2.06.94-2.06 2.06-.94-2.06-.94-.94-2.06-.94 2.06-2.06.94z\"/><path d=\"M17.41 7.96l-1.37-1.37c-.4-.4-.92-.59-1.43-.59-.52 0-1.04.2-1.43.59L10.3 9.45l-7.72 7.72c-.78.78-.78 2.05 0 2.83L4 21.41c.39.39.9.59 1.41.59.51 0 1.02-.2 1.41-.59l7.78-7.78 2.81-2.81c.8-.78.8-2.07 0-2.86zM5.41 20L4 18.59l7.72-7.72 1.47 1.35L5.41 20z\"/>\n",
              "  </svg>\n",
              "      </button>\n",
              "      \n",
              "  <style>\n",
              "    .colab-df-container {\n",
              "      display:flex;\n",
              "      flex-wrap:wrap;\n",
              "      gap: 12px;\n",
              "    }\n",
              "\n",
              "    .colab-df-convert {\n",
              "      background-color: #E8F0FE;\n",
              "      border: none;\n",
              "      border-radius: 50%;\n",
              "      cursor: pointer;\n",
              "      display: none;\n",
              "      fill: #1967D2;\n",
              "      height: 32px;\n",
              "      padding: 0 0 0 0;\n",
              "      width: 32px;\n",
              "    }\n",
              "\n",
              "    .colab-df-convert:hover {\n",
              "      background-color: #E2EBFA;\n",
              "      box-shadow: 0px 1px 2px rgba(60, 64, 67, 0.3), 0px 1px 3px 1px rgba(60, 64, 67, 0.15);\n",
              "      fill: #174EA6;\n",
              "    }\n",
              "\n",
              "    [theme=dark] .colab-df-convert {\n",
              "      background-color: #3B4455;\n",
              "      fill: #D2E3FC;\n",
              "    }\n",
              "\n",
              "    [theme=dark] .colab-df-convert:hover {\n",
              "      background-color: #434B5C;\n",
              "      box-shadow: 0px 1px 3px 1px rgba(0, 0, 0, 0.15);\n",
              "      filter: drop-shadow(0px 1px 2px rgba(0, 0, 0, 0.3));\n",
              "      fill: #FFFFFF;\n",
              "    }\n",
              "  </style>\n",
              "\n",
              "      <script>\n",
              "        const buttonEl =\n",
              "          document.querySelector('#df-c08cda5f-7bc6-4239-b7d4-c895e0095240 button.colab-df-convert');\n",
              "        buttonEl.style.display =\n",
              "          google.colab.kernel.accessAllowed ? 'block' : 'none';\n",
              "\n",
              "        async function convertToInteractive(key) {\n",
              "          const element = document.querySelector('#df-c08cda5f-7bc6-4239-b7d4-c895e0095240');\n",
              "          const dataTable =\n",
              "            await google.colab.kernel.invokeFunction('convertToInteractive',\n",
              "                                                     [key], {});\n",
              "          if (!dataTable) return;\n",
              "\n",
              "          const docLinkHtml = 'Like what you see? Visit the ' +\n",
              "            '<a target=\"_blank\" href=https://colab.research.google.com/notebooks/data_table.ipynb>data table notebook</a>'\n",
              "            + ' to learn more about interactive tables.';\n",
              "          element.innerHTML = '';\n",
              "          dataTable['output_type'] = 'display_data';\n",
              "          await google.colab.output.renderOutput(dataTable, element);\n",
              "          const docLink = document.createElement('div');\n",
              "          docLink.innerHTML = docLinkHtml;\n",
              "          element.appendChild(docLink);\n",
              "        }\n",
              "      </script>\n",
              "    </div>\n",
              "  </div>\n",
              "  "
            ]
          },
          "metadata": {},
          "execution_count": 34
        }
      ],
      "source": [
        "#drop irrelevant column\n",
        "df = df.drop([\"accountNumber\", \"customerId\", \"transactionDateTime\", \"merchantName\", \n",
        "              \"currentExpDate\", \"accountOpenDate\", \"dateOfLastAddressChange\", \"cardCVV\", \n",
        "              \"enteredCVV\", \"cardLast4Digits\"], axis=1)\n",
        "df.head()"
      ]
    },
    {
      "cell_type": "code",
      "execution_count": null,
      "metadata": {
        "id": "LG5ugQ-p-j7j"
      },
      "outputs": [],
      "source": [
        "#Converting boolean values to binary\n",
        "for col in df.columns:\n",
        "    if(df[col].astype(str).str.contains('True').sum()>0 and df[col].astype(str).str.contains('False').sum()>0):\n",
        "        df.loc[df[col].astype(str).str.contains('True'), col] = 1\n",
        "        df.loc[df[col].astype(str).str.contains('False'), col] = 0"
      ]
    },
    {
      "cell_type": "code",
      "execution_count": null,
      "metadata": {
        "id": "LR1v6wflxWpN"
      },
      "outputs": [],
      "source": [
        "#Converting distinct values using label encoding\n",
        "from sklearn.preprocessing import LabelEncoder\n",
        "obj_col = []\n",
        "for col in df.columns: \n",
        "    if(df[col].dtype == object):\n",
        "        obj_col.append(col)\n",
        "           \n",
        "labelencoder = LabelEncoder()\n",
        "for i in obj_col:\n",
        "    df[i] = labelencoder.fit_transform(df[i].astype(str)) "
      ]
    },
    {
      "cell_type": "code",
      "execution_count": null,
      "metadata": {
        "colab": {
          "base_uri": "https://localhost:8080/",
          "height": 270
        },
        "id": "dI5edBl2-P3Q",
        "outputId": "0680918f-8e8e-4edf-b917-0fdc9417df2c"
      },
      "outputs": [
        {
          "output_type": "execute_result",
          "data": {
            "text/plain": [
              "   creditLimit  availableMoney  transactionAmount  acqCountry  \\\n",
              "0         5000         5000.00             111.33           3   \n",
              "1         5000         4888.67              24.75           3   \n",
              "2         5000         4863.92             187.40           3   \n",
              "3         5000         4676.52             227.34           3   \n",
              "4         5000         4449.18               0.00           3   \n",
              "\n",
              "   merchantCountryCode  posEntryMode  posConditionCode  merchantCategoryCode  \\\n",
              "0                    3             1                 0                    17   \n",
              "1                    3             3                 0                    17   \n",
              "2                    3             1                 0                    17   \n",
              "3                    3             0                 0                    17   \n",
              "4                    3             0                 0                    17   \n",
              "\n",
              "   transactionType  isFraud  currentBalance  cardPresent  \\\n",
              "0                1        1            0.00            0   \n",
              "1                1        0          111.33            0   \n",
              "2                1        0          136.08            0   \n",
              "3                1        1          323.48            0   \n",
              "4                0        0          550.82            0   \n",
              "\n",
              "   expirationDateKeyInMatch  \n",
              "0                         0  \n",
              "1                         0  \n",
              "2                         0  \n",
              "3                         0  \n",
              "4                         0  "
            ],
            "text/html": [
              "\n",
              "  <div id=\"df-cdc65ea6-7ce3-490b-a1b2-4317a77f79a4\">\n",
              "    <div class=\"colab-df-container\">\n",
              "      <div>\n",
              "<style scoped>\n",
              "    .dataframe tbody tr th:only-of-type {\n",
              "        vertical-align: middle;\n",
              "    }\n",
              "\n",
              "    .dataframe tbody tr th {\n",
              "        vertical-align: top;\n",
              "    }\n",
              "\n",
              "    .dataframe thead th {\n",
              "        text-align: right;\n",
              "    }\n",
              "</style>\n",
              "<table border=\"1\" class=\"dataframe\">\n",
              "  <thead>\n",
              "    <tr style=\"text-align: right;\">\n",
              "      <th></th>\n",
              "      <th>creditLimit</th>\n",
              "      <th>availableMoney</th>\n",
              "      <th>transactionAmount</th>\n",
              "      <th>acqCountry</th>\n",
              "      <th>merchantCountryCode</th>\n",
              "      <th>posEntryMode</th>\n",
              "      <th>posConditionCode</th>\n",
              "      <th>merchantCategoryCode</th>\n",
              "      <th>transactionType</th>\n",
              "      <th>isFraud</th>\n",
              "      <th>currentBalance</th>\n",
              "      <th>cardPresent</th>\n",
              "      <th>expirationDateKeyInMatch</th>\n",
              "    </tr>\n",
              "  </thead>\n",
              "  <tbody>\n",
              "    <tr>\n",
              "      <th>0</th>\n",
              "      <td>5000</td>\n",
              "      <td>5000.00</td>\n",
              "      <td>111.33</td>\n",
              "      <td>3</td>\n",
              "      <td>3</td>\n",
              "      <td>1</td>\n",
              "      <td>0</td>\n",
              "      <td>17</td>\n",
              "      <td>1</td>\n",
              "      <td>1</td>\n",
              "      <td>0.00</td>\n",
              "      <td>0</td>\n",
              "      <td>0</td>\n",
              "    </tr>\n",
              "    <tr>\n",
              "      <th>1</th>\n",
              "      <td>5000</td>\n",
              "      <td>4888.67</td>\n",
              "      <td>24.75</td>\n",
              "      <td>3</td>\n",
              "      <td>3</td>\n",
              "      <td>3</td>\n",
              "      <td>0</td>\n",
              "      <td>17</td>\n",
              "      <td>1</td>\n",
              "      <td>0</td>\n",
              "      <td>111.33</td>\n",
              "      <td>0</td>\n",
              "      <td>0</td>\n",
              "    </tr>\n",
              "    <tr>\n",
              "      <th>2</th>\n",
              "      <td>5000</td>\n",
              "      <td>4863.92</td>\n",
              "      <td>187.40</td>\n",
              "      <td>3</td>\n",
              "      <td>3</td>\n",
              "      <td>1</td>\n",
              "      <td>0</td>\n",
              "      <td>17</td>\n",
              "      <td>1</td>\n",
              "      <td>0</td>\n",
              "      <td>136.08</td>\n",
              "      <td>0</td>\n",
              "      <td>0</td>\n",
              "    </tr>\n",
              "    <tr>\n",
              "      <th>3</th>\n",
              "      <td>5000</td>\n",
              "      <td>4676.52</td>\n",
              "      <td>227.34</td>\n",
              "      <td>3</td>\n",
              "      <td>3</td>\n",
              "      <td>0</td>\n",
              "      <td>0</td>\n",
              "      <td>17</td>\n",
              "      <td>1</td>\n",
              "      <td>1</td>\n",
              "      <td>323.48</td>\n",
              "      <td>0</td>\n",
              "      <td>0</td>\n",
              "    </tr>\n",
              "    <tr>\n",
              "      <th>4</th>\n",
              "      <td>5000</td>\n",
              "      <td>4449.18</td>\n",
              "      <td>0.00</td>\n",
              "      <td>3</td>\n",
              "      <td>3</td>\n",
              "      <td>0</td>\n",
              "      <td>0</td>\n",
              "      <td>17</td>\n",
              "      <td>0</td>\n",
              "      <td>0</td>\n",
              "      <td>550.82</td>\n",
              "      <td>0</td>\n",
              "      <td>0</td>\n",
              "    </tr>\n",
              "  </tbody>\n",
              "</table>\n",
              "</div>\n",
              "      <button class=\"colab-df-convert\" onclick=\"convertToInteractive('df-cdc65ea6-7ce3-490b-a1b2-4317a77f79a4')\"\n",
              "              title=\"Convert this dataframe to an interactive table.\"\n",
              "              style=\"display:none;\">\n",
              "        \n",
              "  <svg xmlns=\"http://www.w3.org/2000/svg\" height=\"24px\"viewBox=\"0 0 24 24\"\n",
              "       width=\"24px\">\n",
              "    <path d=\"M0 0h24v24H0V0z\" fill=\"none\"/>\n",
              "    <path d=\"M18.56 5.44l.94 2.06.94-2.06 2.06-.94-2.06-.94-.94-2.06-.94 2.06-2.06.94zm-11 1L8.5 8.5l.94-2.06 2.06-.94-2.06-.94L8.5 2.5l-.94 2.06-2.06.94zm10 10l.94 2.06.94-2.06 2.06-.94-2.06-.94-.94-2.06-.94 2.06-2.06.94z\"/><path d=\"M17.41 7.96l-1.37-1.37c-.4-.4-.92-.59-1.43-.59-.52 0-1.04.2-1.43.59L10.3 9.45l-7.72 7.72c-.78.78-.78 2.05 0 2.83L4 21.41c.39.39.9.59 1.41.59.51 0 1.02-.2 1.41-.59l7.78-7.78 2.81-2.81c.8-.78.8-2.07 0-2.86zM5.41 20L4 18.59l7.72-7.72 1.47 1.35L5.41 20z\"/>\n",
              "  </svg>\n",
              "      </button>\n",
              "      \n",
              "  <style>\n",
              "    .colab-df-container {\n",
              "      display:flex;\n",
              "      flex-wrap:wrap;\n",
              "      gap: 12px;\n",
              "    }\n",
              "\n",
              "    .colab-df-convert {\n",
              "      background-color: #E8F0FE;\n",
              "      border: none;\n",
              "      border-radius: 50%;\n",
              "      cursor: pointer;\n",
              "      display: none;\n",
              "      fill: #1967D2;\n",
              "      height: 32px;\n",
              "      padding: 0 0 0 0;\n",
              "      width: 32px;\n",
              "    }\n",
              "\n",
              "    .colab-df-convert:hover {\n",
              "      background-color: #E2EBFA;\n",
              "      box-shadow: 0px 1px 2px rgba(60, 64, 67, 0.3), 0px 1px 3px 1px rgba(60, 64, 67, 0.15);\n",
              "      fill: #174EA6;\n",
              "    }\n",
              "\n",
              "    [theme=dark] .colab-df-convert {\n",
              "      background-color: #3B4455;\n",
              "      fill: #D2E3FC;\n",
              "    }\n",
              "\n",
              "    [theme=dark] .colab-df-convert:hover {\n",
              "      background-color: #434B5C;\n",
              "      box-shadow: 0px 1px 3px 1px rgba(0, 0, 0, 0.15);\n",
              "      filter: drop-shadow(0px 1px 2px rgba(0, 0, 0, 0.3));\n",
              "      fill: #FFFFFF;\n",
              "    }\n",
              "  </style>\n",
              "\n",
              "      <script>\n",
              "        const buttonEl =\n",
              "          document.querySelector('#df-cdc65ea6-7ce3-490b-a1b2-4317a77f79a4 button.colab-df-convert');\n",
              "        buttonEl.style.display =\n",
              "          google.colab.kernel.accessAllowed ? 'block' : 'none';\n",
              "\n",
              "        async function convertToInteractive(key) {\n",
              "          const element = document.querySelector('#df-cdc65ea6-7ce3-490b-a1b2-4317a77f79a4');\n",
              "          const dataTable =\n",
              "            await google.colab.kernel.invokeFunction('convertToInteractive',\n",
              "                                                     [key], {});\n",
              "          if (!dataTable) return;\n",
              "\n",
              "          const docLinkHtml = 'Like what you see? Visit the ' +\n",
              "            '<a target=\"_blank\" href=https://colab.research.google.com/notebooks/data_table.ipynb>data table notebook</a>'\n",
              "            + ' to learn more about interactive tables.';\n",
              "          element.innerHTML = '';\n",
              "          dataTable['output_type'] = 'display_data';\n",
              "          await google.colab.output.renderOutput(dataTable, element);\n",
              "          const docLink = document.createElement('div');\n",
              "          docLink.innerHTML = docLinkHtml;\n",
              "          element.appendChild(docLink);\n",
              "        }\n",
              "      </script>\n",
              "    </div>\n",
              "  </div>\n",
              "  "
            ]
          },
          "metadata": {},
          "execution_count": 37
        }
      ],
      "source": [
        "df.head()"
      ]
    },
    {
      "cell_type": "code",
      "execution_count": null,
      "metadata": {
        "colab": {
          "base_uri": "https://localhost:8080/",
          "height": 624
        },
        "id": "nmex13ifsih3",
        "outputId": "a2ea5be2-76d2-4d70-e41a-d8d2989b752a"
      },
      "outputs": [
        {
          "output_type": "execute_result",
          "data": {
            "text/plain": [
              "<matplotlib.axes._subplots.AxesSubplot at 0x7f7d392ade10>"
            ]
          },
          "metadata": {},
          "execution_count": 38
        },
        {
          "output_type": "display_data",
          "data": {
            "text/plain": [
              "<Figure size 720x720 with 1 Axes>"
            ],
            "image/png": "[encoded data removed]"
          },
          "metadata": {
            "needs_background": "light"
          }
        }
      ],
      "source": [
        "# Chart correlation isFraud with other variabel\n",
        "dataC = abs(df.corr())['isFraud'].sort_values().reset_index()\n",
        "dataC = dataC[~dataC['index'].str.contains('isFraud')]\n",
        "\n",
        "plt.figure(figsize=(10,10))\n",
        "sns.barplot(data = dataC.reset_index(), y='index', x = 'isFraud')"
      ]
    },
    {
      "cell_type": "code",
      "execution_count": null,
      "metadata": {
        "colab": {
          "base_uri": "https://localhost:8080/"
        },
        "id": "4GqFuUCeGHct",
        "outputId": "4830992f-d0a9-4f80-8335-2472c53ccf3f"
      },
      "outputs": [
        {
          "output_type": "stream",
          "name": "stdout",
          "text": [
            "Correlation Values\n",
            "transactionAmount           0.087726\n",
            "posEntryMode                0.038323\n",
            "cardPresent                 0.014609\n",
            "transactionType             0.010996\n",
            "merchantCategoryCode        0.010092\n",
            "currentBalance              0.008464\n",
            "posConditionCode            0.005950\n",
            "merchantCountryCode         0.005394\n",
            "acqCountry                  0.004972\n",
            "creditLimit                 0.003248\n",
            "availableMoney              0.001422\n",
            "expirationDateKeyInMatch    0.001129\n",
            "Name: isFraud, dtype: float64\n"
          ]
        }
      ],
      "source": [
        "print(\"Correlation Values\")\n",
        "\n",
        "corr = abs(df.corr()).drop('isFraud')\n",
        "corr.sort_values(['isFraud'], ascending = False, inplace = True)\n",
        "print(corr.isFraud)"
      ]
    },
    {
      "cell_type": "code",
      "execution_count": null,
      "metadata": {
        "id": "v24kcmmQVU2O"
      },
      "outputs": [],
      "source": [
        "#Segrigating Features and Target variable\n",
        "X = df.drop(columns=['isFraud'])\n",
        "y = df['isFraud']\n",
        "feature = pd.DataFrame({'feature' : X.columns})"
      ]
    },
    {
      "cell_type": "code",
      "execution_count": null,
      "metadata": {
        "colab": {
          "base_uri": "https://localhost:8080/"
        },
        "id": "w9xF8X2DWIeA",
        "outputId": "82b5e711-952e-4dd4-eee7-c365a12adca2"
      },
      "outputs": [
        {
          "output_type": "stream",
          "name": "stdout",
          "text": [
            "(510628, 12) (510628,)\n",
            "(127657, 12) (127657,)\n"
          ]
        }
      ],
      "source": [
        "# Split the dataset into training data and test data\n",
        "from sklearn.model_selection import train_test_split\n",
        "X_train, X_test, y_train, y_test = train_test_split(X, y, test_size = 0.2, random_state = 42)\n",
        "\n",
        "print(X_train.shape, y_train.shape)\n",
        "print(X_test.shape, y_test.shape)"
      ]
    },
    {
      "cell_type": "code",
      "source": [
        "# Randomly under sample the majority class\n",
        "from collections import Counter\n",
        "from imblearn.under_sampling import RandomUnderSampler\n",
        "\n",
        "rus = RandomUnderSampler(random_state=42)\n",
        "X_train, y_train= rus.fit_resample(X_train, y_train)\n",
        "# Check the number of records after under sampling\n",
        "print(sorted(Counter(y_train).items()))"
      ],
      "metadata": {
        "colab": {
          "base_uri": "https://localhost:8080/"
        },
        "id": "5PhdKpnVt7bU",
        "outputId": "e9964df5-00b2-4cb0-f315-ae7952b445e7"
      },
      "execution_count": null,
      "outputs": [
        {
          "output_type": "stream",
          "name": "stdout",
          "text": [
            "[(0, 8818), (1, 8818)]\n"
          ]
        }
      ]
    },
    {
      "cell_type": "markdown",
      "metadata": {
        "id": "9gG5W9WrBFV6"
      },
      "source": [
        "# DATA MODELLING"
      ]
    },
    {
      "cell_type": "markdown",
      "metadata": {
        "id": "Kvh33ruKBvem"
      },
      "source": [
        "### Logistic Regression"
      ]
    },
    {
      "cell_type": "code",
      "execution_count": null,
      "metadata": {
        "colab": {
          "base_uri": "https://localhost:8080/"
        },
        "id": "v3CcQ3pIB9WA",
        "outputId": "63803fa6-b077-4f83-8b8b-aa5067c90ad9"
      },
      "outputs": [
        {
          "output_type": "execute_result",
          "data": {
            "text/plain": [
              "LogisticRegression()"
            ]
          },
          "metadata": {},
          "execution_count": 57
        }
      ],
      "source": [
        "# Fit a logistic regression model to our data\n",
        "from sklearn.linear_model import LogisticRegression\n",
        "\n",
        "# define models\n",
        "model1 = LogisticRegression()\n",
        "model1.fit(X_train, y_train)"
      ]
    },
    {
      "cell_type": "code",
      "execution_count": null,
      "metadata": {
        "id": "IXcFRT4CGk_m"
      },
      "outputs": [],
      "source": [
        "# Obtain model predictions\n",
        "y1_pred = model1.predict(X_test)\n",
        "y1_pred_train = model1.predict(X_train)"
      ]
    },
    {
      "cell_type": "code",
      "execution_count": null,
      "metadata": {
        "colab": {
          "base_uri": "https://localhost:8080/"
        },
        "id": "q8ep1G9JG71P",
        "outputId": "bab582e8-33d8-4a38-891c-89d4d0bc0212"
      },
      "outputs": [
        {
          "output_type": "stream",
          "name": "stdout",
          "text": [
            "Classification report:\n",
            "               precision    recall  f1-score   support\n",
            "\n",
            "           0       0.99      0.63      0.77    125442\n",
            "           1       0.03      0.60      0.05      2215\n",
            "\n",
            "    accuracy                           0.63    127657\n",
            "   macro avg       0.51      0.61      0.41    127657\n",
            "weighted avg       0.97      0.63      0.76    127657\n",
            "\n",
            "Confusion matrix:\n",
            " [[79143 46299]\n",
            " [  893  1322]]\n"
          ]
        }
      ],
      "source": [
        "# Print the classifcation report and confusion matrix\n",
        "from sklearn.metrics import classification_report, confusion_matrix\n",
        "print('Classification report:\\n', classification_report(y_test, y1_pred))\n",
        "conf_mat = confusion_matrix(y_test, y1_pred)\n",
        "print('Confusion matrix:\\n', conf_mat)"
      ]
    },
    {
      "cell_type": "code",
      "execution_count": null,
      "metadata": {
        "colab": {
          "base_uri": "https://localhost:8080/",
          "height": 406
        },
        "id": "aozyApNTOlb_",
        "outputId": "e6a0b53f-ef7b-4b05-bdc8-66fe90663e9d"
      },
      "outputs": [
        {
          "output_type": "stream",
          "name": "stdout",
          "text": [
            "0.6565326513349472\n"
          ]
        },
        {
          "output_type": "display_data",
          "data": {
            "text/plain": [
              "<Figure size 360x432 with 1 Axes>"
            ],
            "image/png": "[encoded data removed]"
          },
          "metadata": {
            "needs_background": "light"
          }
        }
      ],
      "source": [
        "#define metrics\n",
        "from sklearn.metrics import roc_auc_score, roc_curve\n",
        "y1_pred_proba = model1.predict_proba(X_test)[::,1]\n",
        "fpr, tpr, _ = roc_curve(y_test,  y1_pred_proba)\n",
        "aucLR = roc_auc_score(y_test, y1_pred_proba)\n",
        "print(aucLR)\n",
        "\n",
        "#create ROC curve\n",
        "plt.figure(figsize = (5,6))\n",
        "plt.plot(fpr,tpr,label=\"AUC=\"+str(aucLR))\n",
        "plt.ylabel('True Positive Rate')\n",
        "plt.xlabel('False Positive Rate')\n",
        "plt.legend(loc=4)\n",
        "plt.show()"
      ]
    },
    {
      "cell_type": "code",
      "source": [
        "importance_lg = abs(model1.coef_[0])\n",
        "feature['score'] = importance_lg\n",
        "feature\n",
        "# plot feature importance\n",
        "sns.barplot(data = feature, y = 'feature', x = 'score')"
      ],
      "metadata": {
        "colab": {
          "base_uri": "https://localhost:8080/",
          "height": 297
        },
        "id": "c-3VxlMmbYJx",
        "outputId": "84209312-ddcc-40d8-f38f-a4d5b6f6af19"
      },
      "execution_count": null,
      "outputs": [
        {
          "output_type": "execute_result",
          "data": {
            "text/plain": [
              "<matplotlib.axes._subplots.AxesSubplot at 0x7fc600f5e2d0>"
            ]
          },
          "metadata": {},
          "execution_count": 71
        },
        {
          "output_type": "display_data",
          "data": {
            "text/plain": [
              "<Figure size 432x288 with 1 Axes>"
            ],
            "image/png": "[encoded data removed]"
          },
          "metadata": {
            "needs_background": "light"
          }
        }
      ]
    },
    {
      "cell_type": "markdown",
      "source": [
        "Dengan menggunakan model Logistic Regression, feature yang paling berpengaruh terhadap isFraud adalah merchantCategoryCode\n",
        "\n",
        "\n",
        "---"
      ],
      "metadata": {
        "id": "_nduZbZtJdNa"
      }
    },
    {
      "cell_type": "markdown",
      "metadata": {
        "id": "6dfQwH39VgdZ"
      },
      "source": [
        "### Random Forest"
      ]
    },
    {
      "cell_type": "code",
      "execution_count": null,
      "metadata": {
        "colab": {
          "base_uri": "https://localhost:8080/"
        },
        "id": "Yi1ACK4HYm37",
        "outputId": "e2c3f2ed-5a68-46de-d2f7-8f70db9f2195"
      },
      "outputs": [
        {
          "output_type": "execute_result",
          "data": {
            "text/plain": [
              "RandomForestClassifier(max_depth=15, min_samples_leaf=5, min_samples_split=8)"
            ]
          },
          "metadata": {},
          "execution_count": 72
        }
      ],
      "source": [
        "# Define the model as the random forest\n",
        "from sklearn.ensemble import RandomForestClassifier\n",
        "from sklearn.model_selection import GridSearchCV\n",
        "\n",
        "# Hyper Parameter Tuning\n",
        "def tuning(model,parameter,n_cv):\n",
        "    random = GridSearchCV(model, parameter, cv = n_cv)\n",
        "    random.fit(X_train,y_train)\n",
        "    best_param = random.best_params_\n",
        "    return best_param\n",
        "param = {\n",
        "    'max_features': ['log2', 'sqrt','auto'], \n",
        "    'criterion':['entropy','gini'],\n",
        "    'max_depth': [2, 5, 10, 15, 30, None],\n",
        "    \"min_samples_split\":[5,8,10,20,30],\n",
        "    \"min_samples_leaf\":[3,5,10,15,20]\n",
        "}\n",
        "param_best = tuning(RandomForestClassifier(),param,5)\n",
        "\n",
        "# Fit the model to our training set\n",
        "rf_model = RandomForestClassifier(**param_best)\n",
        "rf_model.fit(X_train,y_train)"
      ]
    },
    {
      "cell_type": "code",
      "execution_count": null,
      "metadata": {
        "id": "-mPuzc9Jazsu"
      },
      "outputs": [],
      "source": [
        "# Obtain predictions from the test data \n",
        "y2_pred = rf_model.predict(X_test)"
      ]
    },
    {
      "cell_type": "code",
      "execution_count": null,
      "metadata": {
        "colab": {
          "base_uri": "https://localhost:8080/"
        },
        "id": "guO2qWlzbuW7",
        "outputId": "8fb75188-58f0-4142-cd36-e0ebb309f200"
      },
      "outputs": [
        {
          "output_type": "stream",
          "name": "stdout",
          "text": [
            "\n",
            "Classification Report:\n",
            "              precision    recall  f1-score   support\n",
            "\n",
            "           0       0.99      0.67      0.80    125442\n",
            "           1       0.04      0.70      0.07      2215\n",
            "\n",
            "    accuracy                           0.67    127657\n",
            "   macro avg       0.51      0.69      0.44    127657\n",
            "weighted avg       0.98      0.67      0.79    127657\n",
            "\n",
            "\n",
            "Confusion Matrix:\n",
            "[[84486 40956]\n",
            " [  668  1547]]\n"
          ]
        }
      ],
      "source": [
        "# Print the ROC curve, classification report and confusion matrix\n",
        "print('\\nClassification Report:')\n",
        "print(classification_report(y_test, y2_pred))\n",
        "print('\\nConfusion Matrix:')\n",
        "print(confusion_matrix(y_test, y2_pred))"
      ]
    },
    {
      "cell_type": "code",
      "execution_count": null,
      "metadata": {
        "colab": {
          "base_uri": "https://localhost:8080/",
          "height": 406
        },
        "id": "MOsp1EmhdNPC",
        "outputId": "0c7bbe35-d2a4-431b-abad-0f1dd3943d56"
      },
      "outputs": [
        {
          "output_type": "stream",
          "name": "stdout",
          "text": [
            "0.747140633518974\n"
          ]
        },
        {
          "output_type": "display_data",
          "data": {
            "text/plain": [
              "<Figure size 360x432 with 1 Axes>"
            ],
            "image/png": "[encoded data removed]"
          },
          "metadata": {
            "needs_background": "light"
          }
        }
      ],
      "source": [
        "#define metrics\n",
        "y2_pred_proba = rf_model.predict_proba(X_test)[::,1]\n",
        "fpr, tpr, _ = roc_curve(y_test,  y2_pred_proba)\n",
        "aucRF = roc_auc_score(y_test, y2_pred_proba)\n",
        "print(aucRF)\n",
        "\n",
        "#create ROC curve\n",
        "plt.figure(figsize=(5,6))\n",
        "plt.plot(fpr,tpr,label=\"AUC=\"+str(aucRF))\n",
        "plt.ylabel('True Positive Rate')\n",
        "plt.xlabel('False Positive Rate')\n",
        "plt.legend(loc=4)\n",
        "plt.show()"
      ]
    },
    {
      "cell_type": "code",
      "source": [
        "importances_rf = rf_model.feature_importances_"
      ],
      "metadata": {
        "id": "0LnRFz9yVZVO"
      },
      "execution_count": null,
      "outputs": []
    },
    {
      "cell_type": "code",
      "source": [
        "indices_rf = np.argsort(importances_rf)\n",
        "\n",
        "fig, ax = plt.subplots()\n",
        "ax.barh(range(len(importances_rf)), importances_rf[indices_rf])\n",
        "ax.set_yticks(range(len(importances_rf)))\n",
        "_ = ax.set_yticklabels(np.array(X_train.columns)[indices_rf])"
      ],
      "metadata": {
        "colab": {
          "base_uri": "https://localhost:8080/",
          "height": 265
        },
        "id": "K0QUX7YYZbza",
        "outputId": "04091355-62bc-4801-8c63-e4a88c9e7814"
      },
      "execution_count": null,
      "outputs": [
        {
          "output_type": "display_data",
          "data": {
            "text/plain": [
              "<Figure size 432x288 with 1 Axes>"
            ],
            "image/png": "[encoded data removed]"
          },
          "metadata": {
            "needs_background": "light"
          }
        }
      ]
    },
    {
      "cell_type": "markdown",
      "source": [
        "Dengan menggunakan model Random Forest, feature yang paling berpengaruh terhadap isFraud adalah transactionAmount\n",
        "\n",
        "---"
      ],
      "metadata": {
        "id": "de1NuuJoHsVn"
      }
    },
    {
      "cell_type": "markdown",
      "metadata": {
        "id": "v27O06-SnS5p"
      },
      "source": [
        "### Decision Tree"
      ]
    },
    {
      "cell_type": "code",
      "execution_count": null,
      "metadata": {
        "colab": {
          "base_uri": "https://localhost:8080/"
        },
        "id": "mefSJ-p3l9JM",
        "outputId": "5b5cfb77-0c79-4c9b-c6e5-6d71de7af623"
      },
      "outputs": [
        {
          "output_type": "execute_result",
          "data": {
            "text/plain": [
              "DecisionTreeClassifier(max_depth=8, max_features='auto', min_samples_leaf=8,\n",
              "                       min_samples_split=30)"
            ]
          },
          "metadata": {},
          "execution_count": 78
        }
      ],
      "source": [
        "# Define the model as the Decision Tree\n",
        "from sklearn.tree import DecisionTreeClassifier\n",
        "\n",
        "# Hyper Parameter Tuning\n",
        "from sklearn.model_selection import GridSearchCV\n",
        "def tuning(model,parameter,n_cv):\n",
        "    random = GridSearchCV(model, parameter, cv = n_cv)\n",
        "    random.fit(X_train,y_train)\n",
        "    best_param = random.best_params_\n",
        "    return best_param\n",
        "param = {\n",
        "    'max_features': ['log2', 'sqrt','auto'], \n",
        "    'criterion':['entropy','gini'],\n",
        "    'max_depth': [5, 8, 10, 15, 30, None],\n",
        "    \"min_samples_split\":[5,10,15,30],\n",
        "    \"min_samples_leaf\":[5,8,10,15,30]\n",
        "}\n",
        "param_best = tuning(DecisionTreeClassifier(),param,5)\n",
        "\n",
        "# Fit the model to our training set\n",
        "dct_tune = DecisionTreeClassifier(**param_best)\n",
        "dct_tune.fit(X_train,y_train)"
      ]
    },
    {
      "cell_type": "code",
      "execution_count": null,
      "metadata": {
        "colab": {
          "base_uri": "https://localhost:8080/"
        },
        "id": "FlIZv6S3nEdZ",
        "outputId": "d89a9dc1-fc9c-4a01-87c2-379e05ac127b"
      },
      "outputs": [
        {
          "output_type": "stream",
          "name": "stdout",
          "text": [
            "\n",
            "Classification Report:\n",
            "              precision    recall  f1-score   support\n",
            "\n",
            "           0       0.99      0.63      0.77    125442\n",
            "           1       0.03      0.67      0.06      2215\n",
            "\n",
            "    accuracy                           0.63    127657\n",
            "   macro avg       0.51      0.65      0.42    127657\n",
            "weighted avg       0.97      0.63      0.76    127657\n",
            "\n",
            "\n",
            "Confusion Matrix:\n",
            "[[79452 45990]\n",
            " [  724  1491]]\n"
          ]
        }
      ],
      "source": [
        "# Obtain model predictions\n",
        "y3_pred = dct_tune.predict(X_test)\n",
        "\n",
        "# Print the ROC curve, classification report and confusion matrix\n",
        "print('\\nClassification Report:')\n",
        "print(classification_report(y_test, y3_pred))\n",
        "print('\\nConfusion Matrix:')\n",
        "print(confusion_matrix(y_test, y3_pred))"
      ]
    },
    {
      "cell_type": "code",
      "execution_count": null,
      "metadata": {
        "colab": {
          "base_uri": "https://localhost:8080/",
          "height": 406
        },
        "id": "j0Zn_O2Knfb9",
        "outputId": "d4bce65d-a10c-4850-c16c-f3608ebc1f1e"
      },
      "outputs": [
        {
          "output_type": "stream",
          "name": "stdout",
          "text": [
            "0.7030138216818378\n"
          ]
        },
        {
          "output_type": "display_data",
          "data": {
            "text/plain": [
              "<Figure size 360x432 with 1 Axes>"
            ],
            "image/png": "[encoded data removed]"
          },
          "metadata": {
            "needs_background": "light"
          }
        }
      ],
      "source": [
        "#define metrics\n",
        "y3_pred_proba = dct_tune.predict_proba(X_test)[::,1]\n",
        "fpr, tpr, _ = roc_curve(y_test,  y3_pred_proba)\n",
        "aucDT = roc_auc_score(y_test, y3_pred_proba)\n",
        "print(aucDT)\n",
        "\n",
        "#create ROC curve\n",
        "plt.figure(figsize=(5,6))\n",
        "plt.plot(fpr,tpr,label=\"AUC=\"+str(aucDT))\n",
        "plt.ylabel('True Positive Rate')\n",
        "plt.xlabel('False Positive Rate')\n",
        "plt.legend(loc=4)\n",
        "plt.show()"
      ]
    },
    {
      "cell_type": "code",
      "source": [
        "importances_dt = dct_tune.feature_importances_"
      ],
      "metadata": {
        "id": "v1DNN9rOZsPW"
      },
      "execution_count": null,
      "outputs": []
    },
    {
      "cell_type": "code",
      "source": [
        "indices_dt = np.argsort(importances_dt)\n",
        "\n",
        "fig, ax = plt.subplots()\n",
        "ax.barh(range(len(importances_dt)), importances_dt[indices_dt])\n",
        "ax.set_yticks(range(len(importances_dt)))\n",
        "_ = ax.set_yticklabels(np.array(X_train.columns)[indices_dt])"
      ],
      "metadata": {
        "colab": {
          "base_uri": "https://localhost:8080/",
          "height": 265
        },
        "id": "tdQy38jJZ0qz",
        "outputId": "639b7e20-c060-4503-d923-6bcd92ce2d2a"
      },
      "execution_count": null,
      "outputs": [
        {
          "output_type": "display_data",
          "data": {
            "text/plain": [
              "<Figure size 432x288 with 1 Axes>"
            ],
            "image/png": "[encoded data removed]"
          },
          "metadata": {
            "needs_background": "light"
          }
        }
      ]
    },
    {
      "cell_type": "markdown",
      "source": [
        "Dengan menggunakan model Decision Tree, feature yang paling berpengaruh terhadap isFraud adalah transactionAmount\n",
        "\n",
        "\n",
        "---"
      ],
      "metadata": {
        "id": "-509LmdVH8aI"
      }
    },
    {
      "cell_type": "markdown",
      "source": [
        "### Compare Accuracy Model"
      ],
      "metadata": {
        "id": "Wddyz2TfAvlx"
      }
    },
    {
      "cell_type": "code",
      "source": [
        "from sklearn.metrics import accuracy_score, precision_score, recall_score, f1_score\n",
        "\n",
        "logreg_acc = accuracy_score(y_test, model1.predict(X_test))\n",
        "logreg_recall = recall_score(y_test, model1.predict(X_test))\n",
        "logreg_precision = precision_score(y_test, model1.predict(X_test))\n",
        "logreg_f1 = f1_score(y_test, model1.predict(X_test))\n",
        "logreg_auc = aucLR\n",
        "\n",
        "rf_acc = accuracy_score(y_test, rf_model.predict(X_test))\n",
        "rf_recall = recall_score(y_test, rf_model.predict(X_test))\n",
        "rf_precision = precision_score(y_test, rf_model.predict(X_test))\n",
        "rf_f1 = f1_score(y_test, rf_model.predict(X_test))\n",
        "rf_auc = aucRF\n",
        "\n",
        "dt_acc = accuracy_score(y_test, dct_tune.predict(X_test))\n",
        "dt_recall = recall_score(y_test, dct_tune.predict(X_test))\n",
        "dt_precision = precision_score(y_test, dct_tune.predict(X_test))\n",
        "dt_f1 = f1_score(y_test, dct_tune.predict(X_test))\n",
        "dt_auc = aucDT"
      ],
      "metadata": {
        "id": "JQXxxhXsrIuA"
      },
      "execution_count": null,
      "outputs": []
    },
    {
      "cell_type": "code",
      "source": [
        "model_performances = pd.DataFrame({\n",
        "    \"Model\": [\"Logistic Regression\", \"Random Forest\", \"Decision Tree\"],\n",
        "    \"Accuracy\": [logreg_acc, rf_acc, dt_acc],\n",
        "    \"Recall\": [logreg_recall, rf_recall, dt_recall],\n",
        "    \"Precision\": [logreg_precision, rf_precision, dt_precision],\n",
        "    \"F1-Score\": [logreg_f1, rf_f1, dt_f1],\n",
        "    \"AUC Score\": [logreg_auc, rf_auc, dt_auc]\n",
        "})\n",
        "\n",
        "model_performances"
      ],
      "metadata": {
        "id": "egNyhv-qr1S-",
        "colab": {
          "base_uri": "https://localhost:8080/",
          "height": 143
        },
        "outputId": "0a3416bb-5d95-41dd-d052-0d805baab007"
      },
      "execution_count": null,
      "outputs": [
        {
          "output_type": "execute_result",
          "data": {
            "text/plain": [
              "                 Model  Accuracy    Recall  Precision  F1-Score  AUC Score\n",
              "0  Logistic Regression  0.630322  0.596840   0.027761  0.053054   0.656533\n",
              "1        Random Forest  0.673939  0.698420   0.036397  0.069189   0.747141\n",
              "2        Decision Tree  0.634066  0.673138   0.031402  0.060005   0.703014"
            ],
            "text/html": [
              "\n",
              "  <div id=\"df-a65c7596-a868-4cec-9c29-aaa60a4de480\">\n",
              "    <div class=\"colab-df-container\">\n",
              "      <div>\n",
              "<style scoped>\n",
              "    .dataframe tbody tr th:only-of-type {\n",
              "        vertical-align: middle;\n",
              "    }\n",
              "\n",
              "    .dataframe tbody tr th {\n",
              "        vertical-align: top;\n",
              "    }\n",
              "\n",
              "    .dataframe thead th {\n",
              "        text-align: right;\n",
              "    }\n",
              "</style>\n",
              "<table border=\"1\" class=\"dataframe\">\n",
              "  <thead>\n",
              "    <tr style=\"text-align: right;\">\n",
              "      <th></th>\n",
              "      <th>Model</th>\n",
              "      <th>Accuracy</th>\n",
              "      <th>Recall</th>\n",
              "      <th>Precision</th>\n",
              "      <th>F1-Score</th>\n",
              "      <th>AUC Score</th>\n",
              "    </tr>\n",
              "  </thead>\n",
              "  <tbody>\n",
              "    <tr>\n",
              "      <th>0</th>\n",
              "      <td>Logistic Regression</td>\n",
              "      <td>0.630322</td>\n",
              "      <td>0.596840</td>\n",
              "      <td>0.027761</td>\n",
              "      <td>0.053054</td>\n",
              "      <td>0.656533</td>\n",
              "    </tr>\n",
              "    <tr>\n",
              "      <th>1</th>\n",
              "      <td>Random Forest</td>\n",
              "      <td>0.673939</td>\n",
              "      <td>0.698420</td>\n",
              "      <td>0.036397</td>\n",
              "      <td>0.069189</td>\n",
              "      <td>0.747141</td>\n",
              "    </tr>\n",
              "    <tr>\n",
              "      <th>2</th>\n",
              "      <td>Decision Tree</td>\n",
              "      <td>0.634066</td>\n",
              "      <td>0.673138</td>\n",
              "      <td>0.031402</td>\n",
              "      <td>0.060005</td>\n",
              "      <td>0.703014</td>\n",
              "    </tr>\n",
              "  </tbody>\n",
              "</table>\n",
              "</div>\n",
              "      <button class=\"colab-df-convert\" onclick=\"convertToInteractive('df-a65c7596-a868-4cec-9c29-aaa60a4de480')\"\n",
              "              title=\"Convert this dataframe to an interactive table.\"\n",
              "              style=\"display:none;\">\n",
              "        \n",
              "  <svg xmlns=\"http://www.w3.org/2000/svg\" height=\"24px\"viewBox=\"0 0 24 24\"\n",
              "       width=\"24px\">\n",
              "    <path d=\"M0 0h24v24H0V0z\" fill=\"none\"/>\n",
              "    <path d=\"M18.56 5.44l.94 2.06.94-2.06 2.06-.94-2.06-.94-.94-2.06-.94 2.06-2.06.94zm-11 1L8.5 8.5l.94-2.06 2.06-.94-2.06-.94L8.5 2.5l-.94 2.06-2.06.94zm10 10l.94 2.06.94-2.06 2.06-.94-2.06-.94-.94-2.06-.94 2.06-2.06.94z\"/><path d=\"M17.41 7.96l-1.37-1.37c-.4-.4-.92-.59-1.43-.59-.52 0-1.04.2-1.43.59L10.3 9.45l-7.72 7.72c-.78.78-.78 2.05 0 2.83L4 21.41c.39.39.9.59 1.41.59.51 0 1.02-.2 1.41-.59l7.78-7.78 2.81-2.81c.8-.78.8-2.07 0-2.86zM5.41 20L4 18.59l7.72-7.72 1.47 1.35L5.41 20z\"/>\n",
              "  </svg>\n",
              "      </button>\n",
              "      \n",
              "  <style>\n",
              "    .colab-df-container {\n",
              "      display:flex;\n",
              "      flex-wrap:wrap;\n",
              "      gap: 12px;\n",
              "    }\n",
              "\n",
              "    .colab-df-convert {\n",
              "      background-color: #E8F0FE;\n",
              "      border: none;\n",
              "      border-radius: 50%;\n",
              "      cursor: pointer;\n",
              "      display: none;\n",
              "      fill: #1967D2;\n",
              "      height: 32px;\n",
              "      padding: 0 0 0 0;\n",
              "      width: 32px;\n",
              "    }\n",
              "\n",
              "    .colab-df-convert:hover {\n",
              "      background-color: #E2EBFA;\n",
              "      box-shadow: 0px 1px 2px rgba(60, 64, 67, 0.3), 0px 1px 3px 1px rgba(60, 64, 67, 0.15);\n",
              "      fill: #174EA6;\n",
              "    }\n",
              "\n",
              "    [theme=dark] .colab-df-convert {\n",
              "      background-color: #3B4455;\n",
              "      fill: #D2E3FC;\n",
              "    }\n",
              "\n",
              "    [theme=dark] .colab-df-convert:hover {\n",
              "      background-color: #434B5C;\n",
              "      box-shadow: 0px 1px 3px 1px rgba(0, 0, 0, 0.15);\n",
              "      filter: drop-shadow(0px 1px 2px rgba(0, 0, 0, 0.3));\n",
              "      fill: #FFFFFF;\n",
              "    }\n",
              "  </style>\n",
              "\n",
              "      <script>\n",
              "        const buttonEl =\n",
              "          document.querySelector('#df-a65c7596-a868-4cec-9c29-aaa60a4de480 button.colab-df-convert');\n",
              "        buttonEl.style.display =\n",
              "          google.colab.kernel.accessAllowed ? 'block' : 'none';\n",
              "\n",
              "        async function convertToInteractive(key) {\n",
              "          const element = document.querySelector('#df-a65c7596-a868-4cec-9c29-aaa60a4de480');\n",
              "          const dataTable =\n",
              "            await google.colab.kernel.invokeFunction('convertToInteractive',\n",
              "                                                     [key], {});\n",
              "          if (!dataTable) return;\n",
              "\n",
              "          const docLinkHtml = 'Like what you see? Visit the ' +\n",
              "            '<a target=\"_blank\" href=https://colab.research.google.com/notebooks/data_table.ipynb>data table notebook</a>'\n",
              "            + ' to learn more about interactive tables.';\n",
              "          element.innerHTML = '';\n",
              "          dataTable['output_type'] = 'display_data';\n",
              "          await google.colab.output.renderOutput(dataTable, element);\n",
              "          const docLink = document.createElement('div');\n",
              "          docLink.innerHTML = docLinkHtml;\n",
              "          element.appendChild(docLink);\n",
              "        }\n",
              "      </script>\n",
              "    </div>\n",
              "  </div>\n",
              "  "
            ]
          },
          "metadata": {},
          "execution_count": 84
        }
      ]
    },
    {
      "cell_type": "markdown",
      "source": [
        "Dari perbandingan diatas dapat dilihat model yang bagus untuk memprediksi suatu transaksi fraud atau legitimate adalah Random Forest"
      ],
      "metadata": {
        "id": "zY3wiQn6J5qt"
      }
    },
    {
      "cell_type": "markdown",
      "source": [
        "# Kesimpulan"
      ],
      "metadata": {
        "id": "cOuijyoxKhtf"
      }
    },
    {
      "cell_type": "markdown",
      "source": [
        "Feature yang paling berpengaruh terhadap suatu transaksi fraud atau legitimate berdasarkan model yang dipakai adalah sebagai berikut,\n",
        "1. Logistic Regression: merchantCategoryCode\n",
        "2. Random Forest: transactionAmount\n",
        "3. Decision Tree: transactionAmount\n",
        "\n",
        "Serta model yang terbaik untuk memprediksi suatu transaksi fraud atau legitimate adalah Random Forest."
      ],
      "metadata": {
        "id": "xCo8UoimKm68"
      }
    }
  ],
  "metadata": {
    "colab": {
      "collapsed_sections": [],
      "name": "Final Project.ipynb",
      "provenance": [],
      "include_colab_link": true
    },
    "kernelspec": {
      "display_name": "Python 3",
      "name": "python3"
    },
    "language_info": {
      "name": "python"
    }
  },
  "nbformat": 4,
  "nbformat_minor": 0
}